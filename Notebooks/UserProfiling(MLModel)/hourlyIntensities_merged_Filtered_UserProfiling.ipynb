{
 "cells": [
  {
   "cell_type": "code",
   "execution_count": 1,
   "metadata": {},
   "outputs": [
    {
     "name": "stderr",
     "output_type": "stream",
     "text": [
      "c:\\Users\\intag\\AppData\\Local\\Programs\\Python\\Python312\\Lib\\site-packages\\sklearn\\cluster\\_kmeans.py:1416: FutureWarning: The default value of `n_init` will change from 10 to 'auto' in 1.4. Set the value of `n_init` explicitly to suppress the warning\n",
      "  super()._check_params_vs_input(X, default_n_init=10)\n"
     ]
    }
   ],
   "source": [
    "import pandas as pd\n",
    "from sklearn.cluster import KMeans\n",
    "from sklearn.preprocessing import StandardScaler\n",
    "import joblib\n",
    "\n",
    "# Load the cleaned dataset\n",
    "df = pd.read_csv('/University/6th Semester/Sixth Semester/AI-Enhanced-Fitness-Wellness-Analyzer-Project/Data/FilteredFitbaseData/hourlyIntensities_merged_Filtered.csv')\n",
    "\n",
    "# Select relevant features for user profiling\n",
    "selected_features = ['TotalIntensity', 'AverageIntensity']\n",
    "\n",
    "# Extract the selected features\n",
    "X = df[selected_features]\n",
    "\n",
    "# Standardize the data\n",
    "scaler = StandardScaler()\n",
    "X_scaled = scaler.fit_transform(X)\n",
    "\n",
    "# Train a clustering model (KMeans as an example)\n",
    "kmeans = KMeans(n_clusters=3, random_state=42)\n",
    "df['Cluster'] = kmeans.fit_predict(X_scaled)\n",
    "\n",
    "# Save the clustering model\n",
    "model_save_path = '/University/6th Semester/Sixth Semester/AI-Enhanced-Fitness-Wellness-Analyzer-Project/MLModels/hourlyIntensities_merged_Model.pkl'\n",
    "joblib.dump(kmeans, model_save_path)\n",
    "\n",
    "# Save the dataset with cluster labels\n",
    "clustered_data_save_path = '/University/6th Semester/Sixth Semester/AI-Enhanced-Fitness-Wellness-Analyzer-Project/Data/ClusteredData/hourlyIntensities_merged_Clustered.csv'\n",
    "df.to_csv(clustered_data_save_path, index=False)\n"
   ]
  }
 ],
 "metadata": {
  "kernelspec": {
   "display_name": "Python 3",
   "language": "python",
   "name": "python3"
  },
  "language_info": {
   "codemirror_mode": {
    "name": "ipython",
    "version": 3
   },
   "file_extension": ".py",
   "mimetype": "text/x-python",
   "name": "python",
   "nbconvert_exporter": "python",
   "pygments_lexer": "ipython3",
   "version": "3.12.0"
  }
 },
 "nbformat": 4,
 "nbformat_minor": 2
}
