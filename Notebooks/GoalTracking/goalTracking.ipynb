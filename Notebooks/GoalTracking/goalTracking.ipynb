{
 "cells": [
  {
   "cell_type": "code",
   "execution_count": null,
   "metadata": {},
   "outputs": [],
   "source": [
    "import pandas as pd\n",
    "\n",
    "file_path = '/University/6th Semester/Sixth Semester/AI-Enhanced-Fitness-Wellness-Analyzer-Project/Data/MergedPreprocessedData/PartiallyProcessedData05.csv'\n",
    "preprocessed_data = pd.read_csv(file_path)\n",
    "\n",
    "\n",
    "def track_fitness_goal(user_id, goal_type, goal_value, actual_performance):\n",
    "    \"\"\"\n",
    "    Track fitness goal achievement based on user-defined goals.\n",
    "\n",
    "    Parameters:\n",
    "    - user_id: ID of the user for whom the goal is being tracked.\n",
    "    - goal_type: Type of fitness goal ('steps', 'calories', etc.).\n",
    "    - goal_value: User-defined goal value.\n",
    "    - actual_performance: User's actual performance in the specified metric.\n",
    "\n",
    "    Returns:\n",
    "    - Goal tracking result.\n",
    "    \"\"\"\n",
    "    if goal_value <= 0:\n",
    "        raise ValueError(\"Goal value must be greater than zero.\")\n",
    "\n",
    "    goal_met = actual_performance >= goal_value\n",
    "    goal_progress = (actual_performance / goal_value) * 100 if goal_met else 0\n",
    "\n",
    "    result = {\n",
    "        \"user_id\": user_id,\n",
    "        \"goal_type\": goal_type,\n",
    "        \"goal_value\": goal_value,\n",
    "        \"actual_performance\": actual_performance,\n",
    "        \"goal_met\": goal_met,\n",
    "        \"goal_progress\": goal_progress,\n",
    "    }\n",
    "\n",
    "    return result\n",
    "\n",
    "# Example: Track fitness goal for user with ID 590\n",
    "user_id = 590\n",
    "goal_type = 'steps'\n",
    "goal_value = 8000\n",
    "actual_performance = preprocessed_data[preprocessed_data['Id'] == user_id]['TotalSteps'].sum()\n",
    "\n",
    "goal_tracking_result = track_fitness_goal(user_id, goal_type, goal_value, actual_performance)\n",
    "\n",
    "# Display goal tracking result\n",
    "print(\"Goal Tracking Result:\")\n",
    "print(goal_tracking_result)\n"
   ]
  }
 ],
 "metadata": {
  "language_info": {
   "name": "python"
  }
 },
 "nbformat": 4,
 "nbformat_minor": 2
}
