{
 "cells": [
  {
   "cell_type": "code",
   "execution_count": 5,
   "metadata": {},
   "outputs": [
    {
     "name": "stderr",
     "output_type": "stream",
     "text": [
      "c:\\Users\\intag\\AppData\\Local\\Programs\\Python\\Python312\\Lib\\site-packages\\sklearn\\decomposition\\_nmf.py:1710: ConvergenceWarning: Maximum number of iterations 200 reached. Increase it to improve convergence.\n",
      "  warnings.warn(\n"
     ]
    },
    {
     "data": {
      "text/plain": [
       "['/University/6th Semester/Sixth Semester/AI-Enhanced-Fitness-Wellness-Analyzer-Project/Models/RecommendationModels/recommendationModel.pkl']"
      ]
     },
     "execution_count": 5,
     "metadata": {},
     "output_type": "execute_result"
    }
   ],
   "source": [
    "import pandas as pd\n",
    "from sklearn.model_selection import train_test_split\n",
    "from sklearn.decomposition import NMF\n",
    "import joblib\n",
    "\n",
    "# Load your preprocessed dataset\n",
    "preprocessed_data_path = '/University/6th Semester/Sixth Semester/AI-Enhanced-Fitness-Wellness-Analyzer-Project/Data/MergedPreprocessedData/PartiallyProcessedData04.csv'\n",
    "preprocessed_data = pd.read_csv(preprocessed_data_path)\n",
    "\n",
    "# Split the data into train and test sets\n",
    "train_data, test_data = train_test_split(preprocessed_data, test_size=0.2, random_state=42)\n",
    "\n",
    "# Choose the features for training\n",
    "features = ['Id', 'ActivityDate', 'TotalSteps', 'ActivityDay_x', 'Calories_y', 'ActivityDay_y', 'Rating']\n",
    "\n",
    "# Use pivot_table with an aggregation function (e.g., mean)\n",
    "X_train = train_data.pivot_table(index='Id', columns='ActivityDate', values='Rating', aggfunc='mean', fill_value=0)\n",
    "\n",
    "# Train the model (using Non-Negative Matrix Factorization as an example)\n",
    "model = NMF(n_components=10, init='random', random_state=42)\n",
    "model.fit(X_train)\n",
    "\n",
    "# Save the recommendation model\n",
    "model_save_path = '/University/6th Semester/Sixth Semester/AI-Enhanced-Fitness-Wellness-Analyzer-Project/Models/RecommendationModels/recommendationModel.pkl'\n",
    "joblib.dump(model, model_save_path)"
   ]
  }
 ],
 "metadata": {
  "kernelspec": {
   "display_name": "Python 3",
   "language": "python",
   "name": "python3"
  },
  "language_info": {
   "codemirror_mode": {
    "name": "ipython",
    "version": 3
   },
   "file_extension": ".py",
   "mimetype": "text/x-python",
   "name": "python",
   "nbconvert_exporter": "python",
   "pygments_lexer": "ipython3",
   "version": "3.12.0"
  }
 },
 "nbformat": 4,
 "nbformat_minor": 2
}
