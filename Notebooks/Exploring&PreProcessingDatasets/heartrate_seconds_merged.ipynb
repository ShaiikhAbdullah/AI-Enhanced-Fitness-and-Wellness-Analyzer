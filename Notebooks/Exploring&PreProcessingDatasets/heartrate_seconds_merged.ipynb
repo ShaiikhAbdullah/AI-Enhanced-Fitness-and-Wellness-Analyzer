{
 "cells": [
  {
   "cell_type": "markdown",
   "metadata": {},
   "source": [
    "Exploring the dailyActivity_merged Dataset of our Project"
   ]
  },
  {
   "cell_type": "code",
   "execution_count": 2,
   "metadata": {},
   "outputs": [
    {
     "name": "stdout",
     "output_type": "stream",
     "text": [
      "           Id                  Time  Value\n",
      "0  2022484408  4/12/2016 7:21:00 AM     97\n",
      "1  2022484408  4/12/2016 7:21:05 AM    102\n",
      "2  2022484408  4/12/2016 7:21:10 AM    105\n",
      "3  2022484408  4/12/2016 7:21:20 AM    103\n",
      "4  2022484408  4/12/2016 7:21:25 AM    101\n"
     ]
    }
   ],
   "source": [
    "import pandas as pd\n",
    "\n",
    "filePath = '/University/6th Semester/Sixth Semester/IDS-AIProject/FitabaseData4.12.16-5.12.16/heartrate_seconds_merged.csv'\n",
    "dfHeartRateSeconds = pd.read_csv(filePath)\n",
    "# displaying the first few rows of our datset.\n",
    "print(dfHeartRateSeconds.head())"
   ]
  },
  {
   "cell_type": "code",
   "execution_count": 3,
   "metadata": {},
   "outputs": [
    {
     "name": "stdout",
     "output_type": "stream",
     "text": [
      "<class 'pandas.core.frame.DataFrame'>\n",
      "RangeIndex: 2483658 entries, 0 to 2483657\n",
      "Data columns (total 3 columns):\n",
      " #   Column  Dtype \n",
      "---  ------  ----- \n",
      " 0   Id      int64 \n",
      " 1   Time    object\n",
      " 2   Value   int64 \n",
      "dtypes: int64(2), object(1)\n",
      "memory usage: 56.8+ MB\n",
      "None\n"
     ]
    }
   ],
   "source": [
    "# Displaying the basic information about the dataset\n",
    "print(dfHeartRateSeconds.info())"
   ]
  },
  {
   "cell_type": "code",
   "execution_count": 4,
   "metadata": {},
   "outputs": [
    {
     "name": "stdout",
     "output_type": "stream",
     "text": [
      "                 Id         Value\n",
      "count  2.483658e+06  2.483658e+06\n",
      "mean   5.513765e+09  7.732842e+01\n",
      "std    1.950224e+09  1.940450e+01\n",
      "min    2.022484e+09  3.600000e+01\n",
      "25%    4.388162e+09  6.300000e+01\n",
      "50%    5.553957e+09  7.300000e+01\n",
      "75%    6.962181e+09  8.800000e+01\n",
      "max    8.877689e+09  2.030000e+02\n"
     ]
    }
   ],
   "source": [
    "# Displaying the summary statistics of numeric columns\n",
    "print(dfHeartRateSeconds.describe())"
   ]
  },
  {
   "cell_type": "code",
   "execution_count": 5,
   "metadata": {},
   "outputs": [
    {
     "name": "stdout",
     "output_type": "stream",
     "text": [
      "Index(['Id', 'Time', 'Value'], dtype='object')\n"
     ]
    }
   ],
   "source": [
    "# Displaying the names of all columns\n",
    "print(dfHeartRateSeconds.columns)"
   ]
  },
  {
   "cell_type": "markdown",
   "metadata": {},
   "source": [
    "Data Preprocessing"
   ]
  },
  {
   "cell_type": "code",
   "execution_count": 6,
   "metadata": {},
   "outputs": [
    {
     "name": "stdout",
     "output_type": "stream",
     "text": [
      "Id       0\n",
      "Time     0\n",
      "Value    0\n",
      "dtype: int64\n"
     ]
    }
   ],
   "source": [
    "# Checking for missing values in each column\n",
    "print(dfHeartRateSeconds.isnull().sum())"
   ]
  },
  {
   "cell_type": "code",
   "execution_count": 6,
   "metadata": {},
   "outputs": [
    {
     "name": "stdout",
     "output_type": "stream",
     "text": [
      "[2022484408 2026352035 2347167796 4020332650 4388161847 4558609924\n",
      " 5553957443 5577150313 6117666160 6775888955 6962181067 7007744171\n",
      " 8792009665 8877689391]\n",
      "['4/12/2016 7:21:00 AM' '4/12/2016 7:21:05 AM' '4/12/2016 7:21:10 AM' ...\n",
      " '5/12/2016 2:44:03 PM' '5/12/2016 2:44:18 PM' '5/12/2016 2:44:28 PM']\n",
      "[ 97 102 105 103 101  95  91  93  94  92  89  83  61  60  57  54  55  58\n",
      "  59  56  52  53  62  64  66  67  68  70  74  75  76  78  71  72  82  81\n",
      "  79  84  86  87  88  80  77  90  85  96  98 100  99 107 104 108 106 110\n",
      " 112 111  73  63  65  69 114 115 116 117 118 113 109 119 120 121 122 123\n",
      " 124 125 127 128 130 129 132 133 134 131 138 144 148 150 152 153 154 156\n",
      " 155 149 147 141 139 136 135 126 137 140 142 143 145  51  50 146 157 164\n",
      " 171 178 184 189 188 185 183 182 175 172 168 166 173 169 161 160  49 151\n",
      " 159 158 162 165 200 202 203 201 199 198 197 195 194 193 181 180 177 176\n",
      " 167 192 170 163  45  42  41  43  44  40  38  39  48  46  47 191 187 179\n",
      " 174 190 186 196  36  37]\n"
     ]
    }
   ],
   "source": [
    "# Explore unique values in a specific columns\n",
    "print(dfHeartRateSeconds['Id'].unique())\n",
    "print(dfHeartRateSeconds['Time'].unique())\n",
    "print(dfHeartRateSeconds['Value'].unique())"
   ]
  },
  {
   "cell_type": "code",
   "execution_count": 7,
   "metadata": {},
   "outputs": [
    {
     "name": "stdout",
     "output_type": "stream",
     "text": [
      "Number of Duplicate Rows: 0\n",
      "\n",
      "As No Duplicate Rows:\n",
      "Empty DataFrame\n",
      "Columns: [Id, Time, Value]\n",
      "Index: []\n",
      "\n",
      "No Existing Duplicates:\n",
      "Total Number of Rows: 2483658\n"
     ]
    }
   ],
   "source": [
    "# Checking for duplicate rows\n",
    "duplicates = dfHeartRateSeconds.duplicated()\n",
    "print(\"Number of Duplicate Rows:\", duplicates.sum())\n",
    "\n",
    "duplicate_rows = dfHeartRateSeconds[duplicates]\n",
    "print(\"\\nAs No Duplicate Rows:\")\n",
    "print(duplicate_rows)\n",
    "\n",
    "# Removing the Duplicate Rows\n",
    "dfHeartRateSeconds = dfHeartRateSeconds.drop_duplicates()\n",
    "\n",
    "# Verifying afterwards\n",
    "print(\"\\nNo Existing Duplicates:\")\n",
    "print(\"Total Number of Rows:\", len(dfHeartRateSeconds))"
   ]
  },
  {
   "cell_type": "code",
   "execution_count": 8,
   "metadata": {},
   "outputs": [
    {
     "data": {
      "image/png": "[encoded data removed]",
      "text/plain": [
       "<Figure size 800x600 with 1 Axes>"
      ]
     },
     "metadata": {},
     "output_type": "display_data"
    }
   ],
   "source": [
    "# Visualizing the outliers for the \"Value\" column.\n",
    "import seaborn as sns\n",
    "import matplotlib.pyplot as plt\n",
    "\n",
    "plt.figure(figsize=(8, 6))\n",
    "sns.boxplot(x=dfHeartRateSeconds['Value'])\n",
    "plt.title('Box Plot of Value')\n",
    "plt.show()"
   ]
  },
  {
   "cell_type": "markdown",
   "metadata": {},
   "source": [
    "Handling the Outliers Separately on Features"
   ]
  },
  {
   "cell_type": "markdown",
   "metadata": {},
   "source": [
    "1. Value"
   ]
  },
  {
   "cell_type": "code",
   "execution_count": 9,
   "metadata": {},
   "outputs": [
    {
     "name": "stdout",
     "output_type": "stream",
     "text": [
      "Capped Value:\n",
      "count    2.483658e+06\n",
      "mean     7.684317e+01\n",
      "std      1.777172e+01\n",
      "min      3.600000e+01\n",
      "25%      6.300000e+01\n",
      "50%      7.300000e+01\n",
      "75%      8.800000e+01\n",
      "max      1.250000e+02\n",
      "Name: Value, dtype: float64\n"
     ]
    }
   ],
   "source": [
    "# We are applying capping\n",
    "ValueUpperlimit = 125\n",
    "\n",
    "dfHeartRateSeconds['Value'] = dfHeartRateSeconds['Value'].clip(upper=ValueUpperlimit)\n",
    "print(\"Capped Value:\")\n",
    "print(dfHeartRateSeconds['Value'].describe())"
   ]
  },
  {
   "cell_type": "code",
   "execution_count": 10,
   "metadata": {},
   "outputs": [
    {
     "name": "stdout",
     "output_type": "stream",
     "text": [
      "                 Id         Value\n",
      "count  2.483658e+06  2.483658e+06\n",
      "mean   5.513765e+09  7.684317e+01\n",
      "std    1.950224e+09  1.777172e+01\n",
      "min    2.022484e+09  3.600000e+01\n",
      "25%    4.388162e+09  6.300000e+01\n",
      "50%    5.553957e+09  7.300000e+01\n",
      "75%    6.962181e+09  8.800000e+01\n",
      "max    8.877689e+09  1.250000e+02\n"
     ]
    }
   ],
   "source": [
    "# Displaying summary statistics of all columns\n",
    "print(dfHeartRateSeconds.describe())"
   ]
  },
  {
   "cell_type": "code",
   "execution_count": 11,
   "metadata": {},
   "outputs": [
    {
     "data": {
      "image/png": "[encoded data removed]",
      "text/plain": [
       "<Figure size 800x600 with 1 Axes>"
      ]
     },
     "metadata": {},
     "output_type": "display_data"
    }
   ],
   "source": [
    "# Visualizing the outliers for the \"Value\" column.\n",
    "import seaborn as sns\n",
    "import matplotlib.pyplot as plt\n",
    "\n",
    "plt.figure(figsize=(8, 6))\n",
    "sns.boxplot(x=dfHeartRateSeconds['Value'])\n",
    "plt.title('Box Plot of Value')\n",
    "plt.show()"
   ]
  },
  {
   "cell_type": "code",
   "execution_count": 12,
   "metadata": {},
   "outputs": [
    {
     "name": "stdout",
     "output_type": "stream",
     "text": [
      "Filtered dataset saved to: /University/6th Semester/Sixth Semester/IDS-AIProject/FilteredFitbaseData/heartrate_seconds_merged_Filtered.csv\n"
     ]
    }
   ],
   "source": [
    "# df_daily_activity is our DataFrame with outliers removed\n",
    "\n",
    "# Specifying the path to save the filtered dataset\n",
    "filteredDatasetPath = '/University/6th Semester/Sixth Semester/IDS-AIProject/FilteredFitbaseData/heartrate_seconds_merged_Filtered.csv'\n",
    "\n",
    "# Saving the DataFrame to a CSV file\n",
    "dfHeartRateSeconds.to_csv(filteredDatasetPath, index=False)\n",
    "\n",
    "print(f\"Filtered dataset saved to: {filteredDatasetPath}\")"
   ]
  }
 ],
 "metadata": {
  "kernelspec": {
   "display_name": "Python 3",
   "language": "python",
   "name": "python3"
  },
  "language_info": {
   "codemirror_mode": {
    "name": "ipython",
    "version": 3
   },
   "file_extension": ".py",
   "mimetype": "text/x-python",
   "name": "python",
   "nbconvert_exporter": "python",
   "pygments_lexer": "ipython3",
   "version": "3.12.0"
  }
 },
 "nbformat": 4,
 "nbformat_minor": 2
}
