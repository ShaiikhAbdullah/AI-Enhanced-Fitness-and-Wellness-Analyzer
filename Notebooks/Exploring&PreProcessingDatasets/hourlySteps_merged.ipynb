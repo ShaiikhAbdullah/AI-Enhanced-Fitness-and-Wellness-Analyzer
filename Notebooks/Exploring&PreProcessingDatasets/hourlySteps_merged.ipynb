{
 "cells": [
  {
   "cell_type": "markdown",
   "metadata": {},
   "source": [
    "Exploring the hourlySteps_merged Dataset of our Project"
   ]
  },
  {
   "cell_type": "code",
   "execution_count": 1,
   "metadata": {},
   "outputs": [
    {
     "name": "stdout",
     "output_type": "stream",
     "text": [
      "           Id           ActivityHour  StepTotal\n",
      "0  1503960366  4/12/2016 12:00:00 AM        373\n",
      "1  1503960366   4/12/2016 1:00:00 AM        160\n",
      "2  1503960366   4/12/2016 2:00:00 AM        151\n",
      "3  1503960366   4/12/2016 3:00:00 AM          0\n",
      "4  1503960366   4/12/2016 4:00:00 AM          0\n"
     ]
    }
   ],
   "source": [
    "import pandas as pd\n",
    "\n",
    "filePath = '/University/6th Semester/Sixth Semester/IDS-AIProject/FitabaseData4.12.16-5.12.16/hourlySteps_merged.csv'\n",
    "dfHourlySteps = pd.read_csv(filePath)\n",
    "# displaying the first few rows of our datset.\n",
    "print(dfHourlySteps.head())"
   ]
  },
  {
   "cell_type": "code",
   "execution_count": 2,
   "metadata": {},
   "outputs": [
    {
     "name": "stdout",
     "output_type": "stream",
     "text": [
      "<class 'pandas.core.frame.DataFrame'>\n",
      "RangeIndex: 22099 entries, 0 to 22098\n",
      "Data columns (total 3 columns):\n",
      " #   Column        Non-Null Count  Dtype \n",
      "---  ------        --------------  ----- \n",
      " 0   Id            22099 non-null  int64 \n",
      " 1   ActivityHour  22099 non-null  object\n",
      " 2   StepTotal     22099 non-null  int64 \n",
      "dtypes: int64(2), object(1)\n",
      "memory usage: 518.1+ KB\n",
      "None\n"
     ]
    }
   ],
   "source": [
    "# Displaying the basic information about the dataset\n",
    "print(dfHourlySteps.info())"
   ]
  },
  {
   "cell_type": "code",
   "execution_count": 3,
   "metadata": {},
   "outputs": [
    {
     "name": "stdout",
     "output_type": "stream",
     "text": [
      "                 Id     StepTotal\n",
      "count  2.209900e+04  22099.000000\n",
      "mean   4.848235e+09    320.166342\n",
      "std    2.422500e+09    690.384228\n",
      "min    1.503960e+09      0.000000\n",
      "25%    2.320127e+09      0.000000\n",
      "50%    4.445115e+09     40.000000\n",
      "75%    6.962181e+09    357.000000\n",
      "max    8.877689e+09  10554.000000\n"
     ]
    }
   ],
   "source": [
    "# Displaying the summary statistics of numeric columns\n",
    "print(dfHourlySteps.describe())"
   ]
  },
  {
   "cell_type": "code",
   "execution_count": 4,
   "metadata": {},
   "outputs": [
    {
     "name": "stdout",
     "output_type": "stream",
     "text": [
      "Index(['Id', 'ActivityHour', 'StepTotal'], dtype='object')\n"
     ]
    }
   ],
   "source": [
    "# Displaying the names of all columns\n",
    "print(dfHourlySteps.columns)"
   ]
  },
  {
   "cell_type": "markdown",
   "metadata": {},
   "source": [
    "Data Preprocessing"
   ]
  },
  {
   "cell_type": "code",
   "execution_count": 5,
   "metadata": {},
   "outputs": [
    {
     "name": "stdout",
     "output_type": "stream",
     "text": [
      "Id              0\n",
      "ActivityHour    0\n",
      "StepTotal       0\n",
      "dtype: int64\n"
     ]
    }
   ],
   "source": [
    "# Checking for missing values in each column\n",
    "print(dfHourlySteps.isnull().sum())"
   ]
  },
  {
   "cell_type": "code",
   "execution_count": 6,
   "metadata": {},
   "outputs": [
    {
     "name": "stdout",
     "output_type": "stream",
     "text": [
      "[1503960366 1624580081 1644430081 1844505072 1927972279 2022484408\n",
      " 2026352035 2320127002 2347167796 2873212765 3372868164 3977333714\n",
      " 4020332650 4057192912 4319703577 4388161847 4445114986 4558609924\n",
      " 4702921684 5553957443 5577150313 6117666160 6290855005 6775888955\n",
      " 6962181067 7007744171 7086361926 8053475328 8253242879 8378563200\n",
      " 8583815059 8792009665 8877689391]\n",
      "['4/12/2016 12:00:00 AM' '4/12/2016 1:00:00 AM' '4/12/2016 2:00:00 AM'\n",
      " '4/12/2016 3:00:00 AM' '4/12/2016 4:00:00 AM' '4/12/2016 5:00:00 AM'\n",
      " '4/12/2016 6:00:00 AM' '4/12/2016 7:00:00 AM' '4/12/2016 8:00:00 AM'\n",
      " '4/12/2016 9:00:00 AM' '4/12/2016 10:00:00 AM' '4/12/2016 11:00:00 AM'\n",
      " '4/12/2016 12:00:00 PM' '4/12/2016 1:00:00 PM' '4/12/2016 2:00:00 PM'\n",
      " '4/12/2016 3:00:00 PM' '4/12/2016 4:00:00 PM' '4/12/2016 5:00:00 PM'\n",
      " '4/12/2016 6:00:00 PM' '4/12/2016 7:00:00 PM' '4/12/2016 8:00:00 PM'\n",
      " '4/12/2016 9:00:00 PM' '4/12/2016 10:00:00 PM' '4/12/2016 11:00:00 PM'\n",
      " '4/13/2016 12:00:00 AM' '4/13/2016 1:00:00 AM' '4/13/2016 2:00:00 AM'\n",
      " '4/13/2016 3:00:00 AM' '4/13/2016 4:00:00 AM' '4/13/2016 5:00:00 AM'\n",
      " '4/13/2016 6:00:00 AM' '4/13/2016 7:00:00 AM' '4/13/2016 8:00:00 AM'\n",
      " '4/13/2016 9:00:00 AM' '4/13/2016 10:00:00 AM' '4/13/2016 11:00:00 AM'\n",
      " '4/13/2016 12:00:00 PM' '4/13/2016 1:00:00 PM' '4/13/2016 2:00:00 PM'\n",
      " '4/13/2016 3:00:00 PM' '4/13/2016 4:00:00 PM' '4/13/2016 5:00:00 PM'\n",
      " '4/13/2016 6:00:00 PM' '4/13/2016 7:00:00 PM' '4/13/2016 8:00:00 PM'\n",
      " '4/13/2016 9:00:00 PM' '4/13/2016 10:00:00 PM' '4/13/2016 11:00:00 PM'\n",
      " '4/14/2016 12:00:00 AM' '4/14/2016 1:00:00 AM' '4/14/2016 2:00:00 AM'\n",
      " '4/14/2016 3:00:00 AM' '4/14/2016 4:00:00 AM' '4/14/2016 5:00:00 AM'\n",
      " '4/14/2016 6:00:00 AM' '4/14/2016 7:00:00 AM' '4/14/2016 8:00:00 AM'\n",
      " '4/14/2016 9:00:00 AM' '4/14/2016 10:00:00 AM' '4/14/2016 11:00:00 AM'\n",
      " '4/14/2016 12:00:00 PM' '4/14/2016 1:00:00 PM' '4/14/2016 2:00:00 PM'\n",
      " '4/14/2016 3:00:00 PM' '4/14/2016 4:00:00 PM' '4/14/2016 5:00:00 PM'\n",
      " '4/14/2016 6:00:00 PM' '4/14/2016 7:00:00 PM' '4/14/2016 8:00:00 PM'\n",
      " '4/14/2016 9:00:00 PM' '4/14/2016 10:00:00 PM' '4/14/2016 11:00:00 PM'\n",
      " '4/15/2016 12:00:00 AM' '4/15/2016 1:00:00 AM' '4/15/2016 2:00:00 AM'\n",
      " '4/15/2016 3:00:00 AM' '4/15/2016 4:00:00 AM' '4/15/2016 5:00:00 AM'\n",
      " '4/15/2016 6:00:00 AM' '4/15/2016 7:00:00 AM' '4/15/2016 8:00:00 AM'\n",
      " '4/15/2016 9:00:00 AM' '4/15/2016 10:00:00 AM' '4/15/2016 11:00:00 AM'\n",
      " '4/15/2016 12:00:00 PM' '4/15/2016 1:00:00 PM' '4/15/2016 2:00:00 PM'\n",
      " '4/15/2016 3:00:00 PM' '4/15/2016 4:00:00 PM' '4/15/2016 5:00:00 PM'\n",
      " '4/15/2016 6:00:00 PM' '4/15/2016 7:00:00 PM' '4/15/2016 8:00:00 PM'\n",
      " '4/15/2016 9:00:00 PM' '4/15/2016 10:00:00 PM' '4/15/2016 11:00:00 PM'\n",
      " '4/16/2016 12:00:00 AM' '4/16/2016 1:00:00 AM' '4/16/2016 2:00:00 AM'\n",
      " '4/16/2016 3:00:00 AM' '4/16/2016 4:00:00 AM' '4/16/2016 5:00:00 AM'\n",
      " '4/16/2016 6:00:00 AM' '4/16/2016 7:00:00 AM' '4/16/2016 8:00:00 AM'\n",
      " '4/16/2016 9:00:00 AM' '4/16/2016 10:00:00 AM' '4/16/2016 11:00:00 AM'\n",
      " '4/16/2016 12:00:00 PM' '4/16/2016 1:00:00 PM' '4/16/2016 2:00:00 PM'\n",
      " '4/16/2016 3:00:00 PM' '4/16/2016 4:00:00 PM' '4/16/2016 5:00:00 PM'\n",
      " '4/16/2016 6:00:00 PM' '4/16/2016 7:00:00 PM' '4/16/2016 8:00:00 PM'\n",
      " '4/16/2016 9:00:00 PM' '4/16/2016 10:00:00 PM' '4/16/2016 11:00:00 PM'\n",
      " '4/17/2016 12:00:00 AM' '4/17/2016 1:00:00 AM' '4/17/2016 2:00:00 AM'\n",
      " '4/17/2016 3:00:00 AM' '4/17/2016 4:00:00 AM' '4/17/2016 5:00:00 AM'\n",
      " '4/17/2016 6:00:00 AM' '4/17/2016 7:00:00 AM' '4/17/2016 8:00:00 AM'\n",
      " '4/17/2016 9:00:00 AM' '4/17/2016 10:00:00 AM' '4/17/2016 11:00:00 AM'\n",
      " '4/17/2016 12:00:00 PM' '4/17/2016 1:00:00 PM' '4/17/2016 2:00:00 PM'\n",
      " '4/17/2016 3:00:00 PM' '4/17/2016 4:00:00 PM' '4/17/2016 5:00:00 PM'\n",
      " '4/17/2016 6:00:00 PM' '4/17/2016 7:00:00 PM' '4/17/2016 8:00:00 PM'\n",
      " '4/17/2016 9:00:00 PM' '4/17/2016 10:00:00 PM' '4/17/2016 11:00:00 PM'\n",
      " '4/18/2016 12:00:00 AM' '4/18/2016 1:00:00 AM' '4/18/2016 2:00:00 AM'\n",
      " '4/18/2016 3:00:00 AM' '4/18/2016 4:00:00 AM' '4/18/2016 5:00:00 AM'\n",
      " '4/18/2016 6:00:00 AM' '4/18/2016 7:00:00 AM' '4/18/2016 8:00:00 AM'\n",
      " '4/18/2016 9:00:00 AM' '4/18/2016 10:00:00 AM' '4/18/2016 11:00:00 AM'\n",
      " '4/18/2016 12:00:00 PM' '4/18/2016 1:00:00 PM' '4/18/2016 2:00:00 PM'\n",
      " '4/18/2016 3:00:00 PM' '4/18/2016 4:00:00 PM' '4/18/2016 5:00:00 PM'\n",
      " '4/18/2016 6:00:00 PM' '4/18/2016 7:00:00 PM' '4/18/2016 8:00:00 PM'\n",
      " '4/18/2016 9:00:00 PM' '4/18/2016 10:00:00 PM' '4/18/2016 11:00:00 PM'\n",
      " '4/19/2016 12:00:00 AM' '4/19/2016 1:00:00 AM' '4/19/2016 2:00:00 AM'\n",
      " '4/19/2016 3:00:00 AM' '4/19/2016 4:00:00 AM' '4/19/2016 5:00:00 AM'\n",
      " '4/19/2016 6:00:00 AM' '4/19/2016 7:00:00 AM' '4/19/2016 8:00:00 AM'\n",
      " '4/19/2016 9:00:00 AM' '4/19/2016 10:00:00 AM' '4/19/2016 11:00:00 AM'\n",
      " '4/19/2016 12:00:00 PM' '4/19/2016 1:00:00 PM' '4/19/2016 2:00:00 PM'\n",
      " '4/19/2016 3:00:00 PM' '4/19/2016 4:00:00 PM' '4/19/2016 5:00:00 PM'\n",
      " '4/19/2016 6:00:00 PM' '4/19/2016 7:00:00 PM' '4/19/2016 8:00:00 PM'\n",
      " '4/19/2016 9:00:00 PM' '4/19/2016 10:00:00 PM' '4/19/2016 11:00:00 PM'\n",
      " '4/20/2016 12:00:00 AM' '4/20/2016 1:00:00 AM' '4/20/2016 2:00:00 AM'\n",
      " '4/20/2016 3:00:00 AM' '4/20/2016 4:00:00 AM' '4/20/2016 5:00:00 AM'\n",
      " '4/20/2016 6:00:00 AM' '4/20/2016 7:00:00 AM' '4/20/2016 8:00:00 AM'\n",
      " '4/20/2016 9:00:00 AM' '4/20/2016 10:00:00 AM' '4/20/2016 11:00:00 AM'\n",
      " '4/20/2016 12:00:00 PM' '4/20/2016 1:00:00 PM' '4/20/2016 2:00:00 PM'\n",
      " '4/20/2016 3:00:00 PM' '4/20/2016 4:00:00 PM' '4/20/2016 5:00:00 PM'\n",
      " '4/20/2016 6:00:00 PM' '4/20/2016 7:00:00 PM' '4/20/2016 8:00:00 PM'\n",
      " '4/20/2016 9:00:00 PM' '4/20/2016 10:00:00 PM' '4/20/2016 11:00:00 PM'\n",
      " '4/21/2016 12:00:00 AM' '4/21/2016 1:00:00 AM' '4/21/2016 2:00:00 AM'\n",
      " '4/21/2016 3:00:00 AM' '4/21/2016 4:00:00 AM' '4/21/2016 5:00:00 AM'\n",
      " '4/21/2016 6:00:00 AM' '4/21/2016 7:00:00 AM' '4/21/2016 8:00:00 AM'\n",
      " '4/21/2016 9:00:00 AM' '4/21/2016 10:00:00 AM' '4/21/2016 11:00:00 AM'\n",
      " '4/21/2016 12:00:00 PM' '4/21/2016 1:00:00 PM' '4/21/2016 2:00:00 PM'\n",
      " '4/21/2016 3:00:00 PM' '4/21/2016 4:00:00 PM' '4/21/2016 5:00:00 PM'\n",
      " '4/21/2016 6:00:00 PM' '4/21/2016 7:00:00 PM' '4/21/2016 8:00:00 PM'\n",
      " '4/21/2016 9:00:00 PM' '4/21/2016 10:00:00 PM' '4/21/2016 11:00:00 PM'\n",
      " '4/22/2016 12:00:00 AM' '4/22/2016 1:00:00 AM' '4/22/2016 2:00:00 AM'\n",
      " '4/22/2016 3:00:00 AM' '4/22/2016 4:00:00 AM' '4/22/2016 5:00:00 AM'\n",
      " '4/22/2016 6:00:00 AM' '4/22/2016 7:00:00 AM' '4/22/2016 8:00:00 AM'\n",
      " '4/22/2016 9:00:00 AM' '4/22/2016 10:00:00 AM' '4/22/2016 11:00:00 AM'\n",
      " '4/22/2016 12:00:00 PM' '4/22/2016 1:00:00 PM' '4/22/2016 2:00:00 PM'\n",
      " '4/22/2016 3:00:00 PM' '4/22/2016 4:00:00 PM' '4/22/2016 5:00:00 PM'\n",
      " '4/22/2016 6:00:00 PM' '4/22/2016 7:00:00 PM' '4/22/2016 8:00:00 PM'\n",
      " '4/22/2016 9:00:00 PM' '4/22/2016 10:00:00 PM' '4/22/2016 11:00:00 PM'\n",
      " '4/23/2016 12:00:00 AM' '4/23/2016 1:00:00 AM' '4/23/2016 2:00:00 AM'\n",
      " '4/23/2016 3:00:00 AM' '4/23/2016 4:00:00 AM' '4/23/2016 5:00:00 AM'\n",
      " '4/23/2016 6:00:00 AM' '4/23/2016 7:00:00 AM' '4/23/2016 8:00:00 AM'\n",
      " '4/23/2016 9:00:00 AM' '4/23/2016 10:00:00 AM' '4/23/2016 11:00:00 AM'\n",
      " '4/23/2016 12:00:00 PM' '4/23/2016 1:00:00 PM' '4/23/2016 2:00:00 PM'\n",
      " '4/23/2016 3:00:00 PM' '4/23/2016 4:00:00 PM' '4/23/2016 5:00:00 PM'\n",
      " '4/23/2016 6:00:00 PM' '4/23/2016 7:00:00 PM' '4/23/2016 8:00:00 PM'\n",
      " '4/23/2016 9:00:00 PM' '4/23/2016 10:00:00 PM' '4/23/2016 11:00:00 PM'\n",
      " '4/24/2016 12:00:00 AM' '4/24/2016 1:00:00 AM' '4/24/2016 2:00:00 AM'\n",
      " '4/24/2016 3:00:00 AM' '4/24/2016 4:00:00 AM' '4/24/2016 5:00:00 AM'\n",
      " '4/24/2016 6:00:00 AM' '4/24/2016 7:00:00 AM' '4/24/2016 8:00:00 AM'\n",
      " '4/24/2016 9:00:00 AM' '4/24/2016 10:00:00 AM' '4/24/2016 11:00:00 AM'\n",
      " '4/24/2016 12:00:00 PM' '4/24/2016 1:00:00 PM' '4/24/2016 2:00:00 PM'\n",
      " '4/24/2016 3:00:00 PM' '4/24/2016 4:00:00 PM' '4/24/2016 5:00:00 PM'\n",
      " '4/24/2016 6:00:00 PM' '4/24/2016 7:00:00 PM' '4/24/2016 8:00:00 PM'\n",
      " '4/24/2016 9:00:00 PM' '4/24/2016 10:00:00 PM' '4/24/2016 11:00:00 PM'\n",
      " '4/25/2016 12:00:00 AM' '4/25/2016 1:00:00 AM' '4/25/2016 2:00:00 AM'\n",
      " '4/25/2016 3:00:00 AM' '4/25/2016 4:00:00 AM' '4/25/2016 5:00:00 AM'\n",
      " '4/25/2016 6:00:00 AM' '4/25/2016 7:00:00 AM' '4/25/2016 8:00:00 AM'\n",
      " '4/25/2016 9:00:00 AM' '4/25/2016 10:00:00 AM' '4/25/2016 11:00:00 AM'\n",
      " '4/25/2016 12:00:00 PM' '4/25/2016 1:00:00 PM' '4/25/2016 2:00:00 PM'\n",
      " '4/25/2016 3:00:00 PM' '4/25/2016 4:00:00 PM' '4/25/2016 5:00:00 PM'\n",
      " '4/25/2016 6:00:00 PM' '4/25/2016 7:00:00 PM' '4/25/2016 8:00:00 PM'\n",
      " '4/25/2016 9:00:00 PM' '4/25/2016 10:00:00 PM' '4/25/2016 11:00:00 PM'\n",
      " '4/26/2016 12:00:00 AM' '4/26/2016 1:00:00 AM' '4/26/2016 2:00:00 AM'\n",
      " '4/26/2016 3:00:00 AM' '4/26/2016 4:00:00 AM' '4/26/2016 5:00:00 AM'\n",
      " '4/26/2016 6:00:00 AM' '4/26/2016 7:00:00 AM' '4/26/2016 8:00:00 AM'\n",
      " '4/26/2016 9:00:00 AM' '4/26/2016 10:00:00 AM' '4/26/2016 11:00:00 AM'\n",
      " '4/26/2016 12:00:00 PM' '4/26/2016 1:00:00 PM' '4/26/2016 2:00:00 PM'\n",
      " '4/26/2016 3:00:00 PM' '4/26/2016 4:00:00 PM' '4/26/2016 5:00:00 PM'\n",
      " '4/26/2016 6:00:00 PM' '4/26/2016 7:00:00 PM' '4/26/2016 8:00:00 PM'\n",
      " '4/26/2016 9:00:00 PM' '4/26/2016 10:00:00 PM' '4/26/2016 11:00:00 PM'\n",
      " '4/27/2016 12:00:00 AM' '4/27/2016 1:00:00 AM' '4/27/2016 2:00:00 AM'\n",
      " '4/27/2016 3:00:00 AM' '4/27/2016 4:00:00 AM' '4/27/2016 5:00:00 AM'\n",
      " '4/27/2016 6:00:00 AM' '4/27/2016 7:00:00 AM' '4/27/2016 8:00:00 AM'\n",
      " '4/27/2016 9:00:00 AM' '4/27/2016 10:00:00 AM' '4/27/2016 11:00:00 AM'\n",
      " '4/27/2016 12:00:00 PM' '4/27/2016 1:00:00 PM' '4/27/2016 2:00:00 PM'\n",
      " '4/27/2016 3:00:00 PM' '4/27/2016 4:00:00 PM' '4/27/2016 5:00:00 PM'\n",
      " '4/27/2016 6:00:00 PM' '4/27/2016 7:00:00 PM' '4/27/2016 8:00:00 PM'\n",
      " '4/27/2016 9:00:00 PM' '4/27/2016 10:00:00 PM' '4/27/2016 11:00:00 PM'\n",
      " '4/28/2016 12:00:00 AM' '4/28/2016 1:00:00 AM' '4/28/2016 2:00:00 AM'\n",
      " '4/28/2016 3:00:00 AM' '4/28/2016 4:00:00 AM' '4/28/2016 5:00:00 AM'\n",
      " '4/28/2016 6:00:00 AM' '4/28/2016 7:00:00 AM' '4/28/2016 8:00:00 AM'\n",
      " '4/28/2016 9:00:00 AM' '4/28/2016 10:00:00 AM' '4/28/2016 11:00:00 AM'\n",
      " '4/28/2016 12:00:00 PM' '4/28/2016 1:00:00 PM' '4/28/2016 2:00:00 PM'\n",
      " '4/28/2016 3:00:00 PM' '4/28/2016 4:00:00 PM' '4/28/2016 5:00:00 PM'\n",
      " '4/28/2016 6:00:00 PM' '4/28/2016 7:00:00 PM' '4/28/2016 8:00:00 PM'\n",
      " '4/28/2016 9:00:00 PM' '4/28/2016 10:00:00 PM' '4/28/2016 11:00:00 PM'\n",
      " '4/29/2016 12:00:00 AM' '4/29/2016 1:00:00 AM' '4/29/2016 2:00:00 AM'\n",
      " '4/29/2016 3:00:00 AM' '4/29/2016 4:00:00 AM' '4/29/2016 5:00:00 AM'\n",
      " '4/29/2016 6:00:00 AM' '4/29/2016 7:00:00 AM' '4/29/2016 8:00:00 AM'\n",
      " '4/29/2016 9:00:00 AM' '4/29/2016 10:00:00 AM' '4/29/2016 11:00:00 AM'\n",
      " '4/29/2016 12:00:00 PM' '4/29/2016 1:00:00 PM' '4/29/2016 2:00:00 PM'\n",
      " '4/29/2016 3:00:00 PM' '4/29/2016 4:00:00 PM' '4/29/2016 5:00:00 PM'\n",
      " '4/29/2016 6:00:00 PM' '4/29/2016 7:00:00 PM' '4/29/2016 8:00:00 PM'\n",
      " '4/29/2016 9:00:00 PM' '4/29/2016 10:00:00 PM' '4/29/2016 11:00:00 PM'\n",
      " '4/30/2016 12:00:00 AM' '4/30/2016 1:00:00 AM' '4/30/2016 2:00:00 AM'\n",
      " '4/30/2016 3:00:00 AM' '4/30/2016 4:00:00 AM' '4/30/2016 5:00:00 AM'\n",
      " '4/30/2016 6:00:00 AM' '4/30/2016 7:00:00 AM' '4/30/2016 8:00:00 AM'\n",
      " '4/30/2016 9:00:00 AM' '4/30/2016 10:00:00 AM' '4/30/2016 11:00:00 AM'\n",
      " '4/30/2016 12:00:00 PM' '4/30/2016 1:00:00 PM' '4/30/2016 2:00:00 PM'\n",
      " '4/30/2016 3:00:00 PM' '4/30/2016 4:00:00 PM' '4/30/2016 5:00:00 PM'\n",
      " '4/30/2016 6:00:00 PM' '4/30/2016 7:00:00 PM' '4/30/2016 8:00:00 PM'\n",
      " '4/30/2016 9:00:00 PM' '4/30/2016 10:00:00 PM' '4/30/2016 11:00:00 PM'\n",
      " '5/1/2016 12:00:00 AM' '5/1/2016 1:00:00 AM' '5/1/2016 2:00:00 AM'\n",
      " '5/1/2016 3:00:00 AM' '5/1/2016 4:00:00 AM' '5/1/2016 5:00:00 AM'\n",
      " '5/1/2016 6:00:00 AM' '5/1/2016 7:00:00 AM' '5/1/2016 8:00:00 AM'\n",
      " '5/1/2016 9:00:00 AM' '5/1/2016 10:00:00 AM' '5/1/2016 11:00:00 AM'\n",
      " '5/1/2016 12:00:00 PM' '5/1/2016 1:00:00 PM' '5/1/2016 2:00:00 PM'\n",
      " '5/1/2016 3:00:00 PM' '5/1/2016 4:00:00 PM' '5/1/2016 5:00:00 PM'\n",
      " '5/1/2016 6:00:00 PM' '5/1/2016 7:00:00 PM' '5/1/2016 8:00:00 PM'\n",
      " '5/1/2016 9:00:00 PM' '5/1/2016 10:00:00 PM' '5/1/2016 11:00:00 PM'\n",
      " '5/2/2016 12:00:00 AM' '5/2/2016 1:00:00 AM' '5/2/2016 2:00:00 AM'\n",
      " '5/2/2016 3:00:00 AM' '5/2/2016 4:00:00 AM' '5/2/2016 5:00:00 AM'\n",
      " '5/2/2016 6:00:00 AM' '5/2/2016 7:00:00 AM' '5/2/2016 8:00:00 AM'\n",
      " '5/2/2016 9:00:00 AM' '5/2/2016 10:00:00 AM' '5/2/2016 11:00:00 AM'\n",
      " '5/2/2016 12:00:00 PM' '5/2/2016 1:00:00 PM' '5/2/2016 2:00:00 PM'\n",
      " '5/2/2016 3:00:00 PM' '5/2/2016 4:00:00 PM' '5/2/2016 5:00:00 PM'\n",
      " '5/2/2016 6:00:00 PM' '5/2/2016 7:00:00 PM' '5/2/2016 8:00:00 PM'\n",
      " '5/2/2016 9:00:00 PM' '5/2/2016 10:00:00 PM' '5/2/2016 11:00:00 PM'\n",
      " '5/3/2016 12:00:00 AM' '5/3/2016 1:00:00 AM' '5/3/2016 2:00:00 AM'\n",
      " '5/3/2016 3:00:00 AM' '5/3/2016 4:00:00 AM' '5/3/2016 5:00:00 AM'\n",
      " '5/3/2016 6:00:00 AM' '5/3/2016 7:00:00 AM' '5/3/2016 8:00:00 AM'\n",
      " '5/3/2016 9:00:00 AM' '5/3/2016 10:00:00 AM' '5/3/2016 11:00:00 AM'\n",
      " '5/3/2016 12:00:00 PM' '5/3/2016 1:00:00 PM' '5/3/2016 2:00:00 PM'\n",
      " '5/3/2016 3:00:00 PM' '5/3/2016 4:00:00 PM' '5/3/2016 5:00:00 PM'\n",
      " '5/3/2016 6:00:00 PM' '5/3/2016 7:00:00 PM' '5/3/2016 8:00:00 PM'\n",
      " '5/3/2016 9:00:00 PM' '5/3/2016 10:00:00 PM' '5/3/2016 11:00:00 PM'\n",
      " '5/4/2016 12:00:00 AM' '5/4/2016 1:00:00 AM' '5/4/2016 2:00:00 AM'\n",
      " '5/4/2016 3:00:00 AM' '5/4/2016 4:00:00 AM' '5/4/2016 5:00:00 AM'\n",
      " '5/4/2016 6:00:00 AM' '5/4/2016 7:00:00 AM' '5/4/2016 8:00:00 AM'\n",
      " '5/4/2016 9:00:00 AM' '5/4/2016 10:00:00 AM' '5/4/2016 11:00:00 AM'\n",
      " '5/4/2016 12:00:00 PM' '5/4/2016 1:00:00 PM' '5/4/2016 2:00:00 PM'\n",
      " '5/4/2016 3:00:00 PM' '5/4/2016 4:00:00 PM' '5/4/2016 5:00:00 PM'\n",
      " '5/4/2016 6:00:00 PM' '5/4/2016 7:00:00 PM' '5/4/2016 8:00:00 PM'\n",
      " '5/4/2016 9:00:00 PM' '5/4/2016 10:00:00 PM' '5/4/2016 11:00:00 PM'\n",
      " '5/5/2016 12:00:00 AM' '5/5/2016 1:00:00 AM' '5/5/2016 2:00:00 AM'\n",
      " '5/5/2016 3:00:00 AM' '5/5/2016 4:00:00 AM' '5/5/2016 5:00:00 AM'\n",
      " '5/5/2016 6:00:00 AM' '5/5/2016 7:00:00 AM' '5/5/2016 8:00:00 AM'\n",
      " '5/5/2016 9:00:00 AM' '5/5/2016 10:00:00 AM' '5/5/2016 11:00:00 AM'\n",
      " '5/5/2016 12:00:00 PM' '5/5/2016 1:00:00 PM' '5/5/2016 2:00:00 PM'\n",
      " '5/5/2016 3:00:00 PM' '5/5/2016 4:00:00 PM' '5/5/2016 5:00:00 PM'\n",
      " '5/5/2016 6:00:00 PM' '5/5/2016 7:00:00 PM' '5/5/2016 8:00:00 PM'\n",
      " '5/5/2016 9:00:00 PM' '5/5/2016 10:00:00 PM' '5/5/2016 11:00:00 PM'\n",
      " '5/6/2016 12:00:00 AM' '5/6/2016 1:00:00 AM' '5/6/2016 2:00:00 AM'\n",
      " '5/6/2016 3:00:00 AM' '5/6/2016 4:00:00 AM' '5/6/2016 5:00:00 AM'\n",
      " '5/6/2016 6:00:00 AM' '5/6/2016 7:00:00 AM' '5/6/2016 8:00:00 AM'\n",
      " '5/6/2016 9:00:00 AM' '5/6/2016 10:00:00 AM' '5/6/2016 11:00:00 AM'\n",
      " '5/6/2016 12:00:00 PM' '5/6/2016 1:00:00 PM' '5/6/2016 2:00:00 PM'\n",
      " '5/6/2016 3:00:00 PM' '5/6/2016 4:00:00 PM' '5/6/2016 5:00:00 PM'\n",
      " '5/6/2016 6:00:00 PM' '5/6/2016 7:00:00 PM' '5/6/2016 8:00:00 PM'\n",
      " '5/6/2016 9:00:00 PM' '5/6/2016 10:00:00 PM' '5/6/2016 11:00:00 PM'\n",
      " '5/7/2016 12:00:00 AM' '5/7/2016 1:00:00 AM' '5/7/2016 2:00:00 AM'\n",
      " '5/7/2016 3:00:00 AM' '5/7/2016 4:00:00 AM' '5/7/2016 5:00:00 AM'\n",
      " '5/7/2016 6:00:00 AM' '5/7/2016 7:00:00 AM' '5/7/2016 8:00:00 AM'\n",
      " '5/7/2016 9:00:00 AM' '5/7/2016 10:00:00 AM' '5/7/2016 11:00:00 AM'\n",
      " '5/7/2016 12:00:00 PM' '5/7/2016 1:00:00 PM' '5/7/2016 2:00:00 PM'\n",
      " '5/7/2016 3:00:00 PM' '5/7/2016 4:00:00 PM' '5/7/2016 5:00:00 PM'\n",
      " '5/7/2016 6:00:00 PM' '5/7/2016 7:00:00 PM' '5/7/2016 8:00:00 PM'\n",
      " '5/7/2016 9:00:00 PM' '5/7/2016 10:00:00 PM' '5/7/2016 11:00:00 PM'\n",
      " '5/8/2016 12:00:00 AM' '5/8/2016 1:00:00 AM' '5/8/2016 2:00:00 AM'\n",
      " '5/8/2016 3:00:00 AM' '5/8/2016 4:00:00 AM' '5/8/2016 5:00:00 AM'\n",
      " '5/8/2016 6:00:00 AM' '5/8/2016 7:00:00 AM' '5/8/2016 8:00:00 AM'\n",
      " '5/8/2016 9:00:00 AM' '5/8/2016 10:00:00 AM' '5/8/2016 11:00:00 AM'\n",
      " '5/8/2016 12:00:00 PM' '5/8/2016 1:00:00 PM' '5/8/2016 2:00:00 PM'\n",
      " '5/8/2016 3:00:00 PM' '5/8/2016 4:00:00 PM' '5/8/2016 5:00:00 PM'\n",
      " '5/8/2016 6:00:00 PM' '5/8/2016 7:00:00 PM' '5/8/2016 8:00:00 PM'\n",
      " '5/8/2016 9:00:00 PM' '5/8/2016 10:00:00 PM' '5/8/2016 11:00:00 PM'\n",
      " '5/9/2016 12:00:00 AM' '5/9/2016 1:00:00 AM' '5/9/2016 2:00:00 AM'\n",
      " '5/9/2016 3:00:00 AM' '5/9/2016 4:00:00 AM' '5/9/2016 5:00:00 AM'\n",
      " '5/9/2016 6:00:00 AM' '5/9/2016 7:00:00 AM' '5/9/2016 8:00:00 AM'\n",
      " '5/9/2016 9:00:00 AM' '5/9/2016 10:00:00 AM' '5/9/2016 11:00:00 AM'\n",
      " '5/9/2016 12:00:00 PM' '5/9/2016 1:00:00 PM' '5/9/2016 2:00:00 PM'\n",
      " '5/9/2016 3:00:00 PM' '5/9/2016 4:00:00 PM' '5/9/2016 5:00:00 PM'\n",
      " '5/9/2016 6:00:00 PM' '5/9/2016 7:00:00 PM' '5/9/2016 8:00:00 PM'\n",
      " '5/9/2016 9:00:00 PM' '5/9/2016 10:00:00 PM' '5/9/2016 11:00:00 PM'\n",
      " '5/10/2016 12:00:00 AM' '5/10/2016 1:00:00 AM' '5/10/2016 2:00:00 AM'\n",
      " '5/10/2016 3:00:00 AM' '5/10/2016 4:00:00 AM' '5/10/2016 5:00:00 AM'\n",
      " '5/10/2016 6:00:00 AM' '5/10/2016 7:00:00 AM' '5/10/2016 8:00:00 AM'\n",
      " '5/10/2016 9:00:00 AM' '5/10/2016 10:00:00 AM' '5/10/2016 11:00:00 AM'\n",
      " '5/10/2016 12:00:00 PM' '5/10/2016 1:00:00 PM' '5/10/2016 2:00:00 PM'\n",
      " '5/10/2016 3:00:00 PM' '5/10/2016 4:00:00 PM' '5/10/2016 5:00:00 PM'\n",
      " '5/10/2016 6:00:00 PM' '5/10/2016 7:00:00 PM' '5/10/2016 8:00:00 PM'\n",
      " '5/10/2016 9:00:00 PM' '5/10/2016 10:00:00 PM' '5/10/2016 11:00:00 PM'\n",
      " '5/11/2016 12:00:00 AM' '5/11/2016 1:00:00 AM' '5/11/2016 2:00:00 AM'\n",
      " '5/11/2016 3:00:00 AM' '5/11/2016 4:00:00 AM' '5/11/2016 5:00:00 AM'\n",
      " '5/11/2016 6:00:00 AM' '5/11/2016 7:00:00 AM' '5/11/2016 8:00:00 AM'\n",
      " '5/11/2016 9:00:00 AM' '5/11/2016 10:00:00 AM' '5/11/2016 11:00:00 AM'\n",
      " '5/11/2016 12:00:00 PM' '5/11/2016 1:00:00 PM' '5/11/2016 2:00:00 PM'\n",
      " '5/11/2016 3:00:00 PM' '5/11/2016 4:00:00 PM' '5/11/2016 5:00:00 PM'\n",
      " '5/11/2016 6:00:00 PM' '5/11/2016 7:00:00 PM' '5/11/2016 8:00:00 PM'\n",
      " '5/11/2016 9:00:00 PM' '5/11/2016 10:00:00 PM' '5/11/2016 11:00:00 PM'\n",
      " '5/12/2016 12:00:00 AM' '5/12/2016 1:00:00 AM' '5/12/2016 2:00:00 AM'\n",
      " '5/12/2016 3:00:00 AM' '5/12/2016 4:00:00 AM' '5/12/2016 5:00:00 AM'\n",
      " '5/12/2016 6:00:00 AM' '5/12/2016 7:00:00 AM' '5/12/2016 8:00:00 AM'\n",
      " '5/12/2016 9:00:00 AM' '5/12/2016 10:00:00 AM' '5/12/2016 11:00:00 AM'\n",
      " '5/12/2016 12:00:00 PM' '5/12/2016 1:00:00 PM' '5/12/2016 2:00:00 PM'\n",
      " '5/12/2016 3:00:00 PM']\n",
      "[ 373  160  151 ... 2869 8357 3135]\n"
     ]
    }
   ],
   "source": [
    "# Explore unique values in a specific columns\n",
    "print(dfHourlySteps['Id'].unique())\n",
    "print(dfHourlySteps['ActivityHour'].unique())\n",
    "print(dfHourlySteps['StepTotal'].unique())"
   ]
  },
  {
   "cell_type": "code",
   "execution_count": 7,
   "metadata": {},
   "outputs": [
    {
     "name": "stdout",
     "output_type": "stream",
     "text": [
      "Number of Duplicate Rows: 0\n",
      "\n",
      "As No Duplicate Rows:\n",
      "Empty DataFrame\n",
      "Columns: [Id, ActivityHour, StepTotal]\n",
      "Index: []\n",
      "\n",
      "No Existing Duplicates:\n",
      "Total Number of Rows: 22099\n"
     ]
    }
   ],
   "source": [
    "# Checking for duplicate rows\n",
    "duplicates = dfHourlySteps.duplicated()\n",
    "print(\"Number of Duplicate Rows:\", duplicates.sum())\n",
    "\n",
    "duplicate_rows = dfHourlySteps[duplicates]\n",
    "print(\"\\nAs No Duplicate Rows:\")\n",
    "print(duplicate_rows)\n",
    "\n",
    "# Removing the Duplicate Rows\n",
    "dfHourlySteps = dfHourlySteps.drop_duplicates()\n",
    "\n",
    "# Verifying afterwards\n",
    "print(\"\\nNo Existing Duplicates:\")\n",
    "print(\"Total Number of Rows:\", len(dfHourlySteps))"
   ]
  },
  {
   "cell_type": "code",
   "execution_count": 8,
   "metadata": {},
   "outputs": [
    {
     "data": {
      "image/png": "[encoded data removed]",
      "text/plain": [
       "<Figure size 1500x1000 with 3 Axes>"
      ]
     },
     "metadata": {},
     "output_type": "display_data"
    }
   ],
   "source": [
    "# Visualizing the features to identify the outliers.\n",
    "import seaborn as sns\n",
    "import matplotlib.pyplot as plt\n",
    "plt.figure(figsize=(15, 10))\n",
    "\n",
    "for i, column in enumerate(dfHourlySteps.columns):\n",
    "    plt.subplot(3, 5, i+1)  \n",
    "    sns.boxplot(x=dfHourlySteps[column])\n",
    "    plt.title(f'Box Plot of {column}')\n",
    "\n",
    "plt.tight_layout()\n",
    "plt.show()"
   ]
  },
  {
   "cell_type": "markdown",
   "metadata": {},
   "source": [
    "Handling the Outliers Separately on Features"
   ]
  },
  {
   "cell_type": "markdown",
   "metadata": {},
   "source": [
    "1. StepTotal"
   ]
  },
  {
   "cell_type": "code",
   "execution_count": 21,
   "metadata": {},
   "outputs": [
    {
     "name": "stdout",
     "output_type": "stream",
     "text": [
      "Capped StepTotal:\n",
      "count    22099.000000\n",
      "mean        88.577402\n",
      "std         92.136945\n",
      "min          0.000000\n",
      "25%          0.000000\n",
      "50%         40.000000\n",
      "75%        200.000000\n",
      "max        200.000000\n",
      "Name: StepTotal, dtype: float64\n"
     ]
    }
   ],
   "source": [
    "# We are applying capping\n",
    "totalStepsUpperlimit = 2600\n",
    "\n",
    "dfHourlySteps['StepTotal'] = dfHourlySteps['StepTotal'].clip(upper=totalStepsUpperlimit)\n",
    "print(\"Capped StepTotal:\")\n",
    "print(dfHourlySteps['StepTotal'].describe())"
   ]
  },
  {
   "cell_type": "code",
   "execution_count": 22,
   "metadata": {},
   "outputs": [
    {
     "name": "stdout",
     "output_type": "stream",
     "text": [
      "                 Id     StepTotal\n",
      "count  2.209900e+04  22099.000000\n",
      "mean   4.848235e+09     88.577402\n",
      "std    2.422500e+09     92.136945\n",
      "min    1.503960e+09      0.000000\n",
      "25%    2.320127e+09      0.000000\n",
      "50%    4.445115e+09     40.000000\n",
      "75%    6.962181e+09    200.000000\n",
      "max    8.877689e+09    200.000000\n"
     ]
    }
   ],
   "source": [
    "# Displaying summary statistics of all columns\n",
    "print(dfHourlySteps.describe())\n"
   ]
  },
  {
   "cell_type": "code",
   "execution_count": 23,
   "metadata": {},
   "outputs": [
    {
     "data": {
      "image/png": "[encoded data removed]",
      "text/plain": [
       "<Figure size 1600x1000 with 3 Axes>"
      ]
     },
     "metadata": {},
     "output_type": "display_data"
    }
   ],
   "source": [
    "import seaborn as sns\n",
    "import matplotlib.pyplot as plt\n",
    "\n",
    "# Set the size of the plot\n",
    "plt.figure(figsize=(16, 10))\n",
    "\n",
    "# Iterate through each column in the DataFrame\n",
    "for column in dfHourlySteps.columns:\n",
    "    # Create a box plot for each feature\n",
    "    plt.subplot(3, 5, dfHourlySteps.columns.get_loc(column) + 1)  # Adjust the subplot grid as needed\n",
    "    sns.boxplot(x=dfHourlySteps[column])\n",
    "    plt.title(column)\n",
    "\n",
    "# Adjust layout\n",
    "plt.tight_layout()\n",
    "\n",
    "# Show the plot\n",
    "plt.show()\n"
   ]
  },
  {
   "cell_type": "code",
   "execution_count": 24,
   "metadata": {},
   "outputs": [
    {
     "name": "stdout",
     "output_type": "stream",
     "text": [
      "Filtered dataset saved to: /University/6th Semester/Sixth Semester/IDS-AIProject/FilteredFitbaseData/hourlySteps_merged_Filtered.csv\n"
     ]
    }
   ],
   "source": [
    "# dfHourlySteps is our DataFrame with outliers removed\n",
    "\n",
    "# Specifying the path to save the filtered dataset\n",
    "filteredDatasetPath = '/University/6th Semester/Sixth Semester/IDS-AIProject/FilteredFitbaseData/hourlySteps_merged_Filtered.csv'\n",
    "\n",
    "# Saving the DataFrame to a CSV file\n",
    "dfHourlySteps.to_csv(filteredDatasetPath, index=False)\n",
    "\n",
    "print(f\"Filtered dataset saved to: {filteredDatasetPath}\")"
   ]
  }
 ],
 "metadata": {
  "kernelspec": {
   "display_name": "Python 3",
   "language": "python",
   "name": "python3"
  },
  "language_info": {
   "codemirror_mode": {
    "name": "ipython",
    "version": 3
   },
   "file_extension": ".py",
   "mimetype": "text/x-python",
   "name": "python",
   "nbconvert_exporter": "python",
   "pygments_lexer": "ipython3",
   "version": "3.12.0"
  }
 },
 "nbformat": 4,
 "nbformat_minor": 2
}
