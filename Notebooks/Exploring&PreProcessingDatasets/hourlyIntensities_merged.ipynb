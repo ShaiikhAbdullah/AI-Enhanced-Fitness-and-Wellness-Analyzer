{
 "cells": [
  {
   "cell_type": "markdown",
   "metadata": {},
   "source": [
    "Exploring the hourlyIntensities_merged Dataset of our Project"
   ]
  },
  {
   "cell_type": "code",
   "execution_count": 4,
   "metadata": {},
   "outputs": [
    {
     "name": "stdout",
     "output_type": "stream",
     "text": [
      "           Id           ActivityHour  TotalIntensity  AverageIntensity\n",
      "0  1503960366  4/12/2016 12:00:00 AM              20          0.333333\n",
      "1  1503960366   4/12/2016 1:00:00 AM               8          0.133333\n",
      "2  1503960366   4/12/2016 2:00:00 AM               7          0.116667\n",
      "3  1503960366   4/12/2016 3:00:00 AM               0          0.000000\n",
      "4  1503960366   4/12/2016 4:00:00 AM               0          0.000000\n"
     ]
    }
   ],
   "source": [
    "import pandas as pd\n",
    "\n",
    "filePath = '/University/6th Semester/Sixth Semester/IDS-AIProject/FitabaseData4.12.16-5.12.16/hourlyIntensities_merged.csv'\n",
    "dfHourlyIntensity = pd.read_csv(filePath)\n",
    "# displaying the first few rows of our datset.\n",
    "print(dfHourlyIntensity.head())"
   ]
  },
  {
   "cell_type": "code",
   "execution_count": 5,
   "metadata": {},
   "outputs": [
    {
     "name": "stdout",
     "output_type": "stream",
     "text": [
      "<class 'pandas.core.frame.DataFrame'>\n",
      "RangeIndex: 22099 entries, 0 to 22098\n",
      "Data columns (total 4 columns):\n",
      " #   Column            Non-Null Count  Dtype  \n",
      "---  ------            --------------  -----  \n",
      " 0   Id                22099 non-null  int64  \n",
      " 1   ActivityHour      22099 non-null  object \n",
      " 2   TotalIntensity    22099 non-null  int64  \n",
      " 3   AverageIntensity  22099 non-null  float64\n",
      "dtypes: float64(1), int64(2), object(1)\n",
      "memory usage: 690.7+ KB\n",
      "None\n"
     ]
    }
   ],
   "source": [
    "# Displaying the basic information about the dataset\n",
    "print(dfHourlyIntensity.info())"
   ]
  },
  {
   "cell_type": "code",
   "execution_count": 6,
   "metadata": {},
   "outputs": [
    {
     "name": "stdout",
     "output_type": "stream",
     "text": [
      "                 Id  TotalIntensity  AverageIntensity\n",
      "count  2.209900e+04    22099.000000      22099.000000\n",
      "mean   4.848235e+09       12.035341          0.200589\n",
      "std    2.422500e+09       21.133110          0.352219\n",
      "min    1.503960e+09        0.000000          0.000000\n",
      "25%    2.320127e+09        0.000000          0.000000\n",
      "50%    4.445115e+09        3.000000          0.050000\n",
      "75%    6.962181e+09       16.000000          0.266667\n",
      "max    8.877689e+09      180.000000          3.000000\n"
     ]
    }
   ],
   "source": [
    "# Displaying the summary statistics of numeric columns\n",
    "print(dfHourlyIntensity.describe())"
   ]
  },
  {
   "cell_type": "code",
   "execution_count": 7,
   "metadata": {},
   "outputs": [
    {
     "name": "stdout",
     "output_type": "stream",
     "text": [
      "Index(['Id', 'ActivityHour', 'TotalIntensity', 'AverageIntensity'], dtype='object')\n"
     ]
    }
   ],
   "source": [
    "# Displaying the names of all columns\n",
    "print(dfHourlyIntensity.columns)"
   ]
  },
  {
   "cell_type": "markdown",
   "metadata": {},
   "source": [
    "Data Preprocessing"
   ]
  },
  {
   "cell_type": "code",
   "execution_count": 8,
   "metadata": {},
   "outputs": [
    {
     "name": "stdout",
     "output_type": "stream",
     "text": [
      "Id                  0\n",
      "ActivityHour        0\n",
      "TotalIntensity      0\n",
      "AverageIntensity    0\n",
      "dtype: int64\n"
     ]
    }
   ],
   "source": [
    "# Checking for missing values in each column\n",
    "print(dfHourlyIntensity.isnull().sum())"
   ]
  },
  {
   "cell_type": "code",
   "execution_count": 9,
   "metadata": {},
   "outputs": [
    {
     "name": "stdout",
     "output_type": "stream",
     "text": [
      "[1503960366 1624580081 1644430081 1844505072 1927972279 2022484408\n",
      " 2026352035 2320127002 2347167796 2873212765 3372868164 3977333714\n",
      " 4020332650 4057192912 4319703577 4388161847 4445114986 4558609924\n",
      " 4702921684 5553957443 5577150313 6117666160 6290855005 6775888955\n",
      " 6962181067 7007744171 7086361926 8053475328 8253242879 8378563200\n",
      " 8583815059 8792009665 8877689391]\n",
      "['4/12/2016 12:00:00 AM' '4/12/2016 1:00:00 AM' '4/12/2016 2:00:00 AM'\n",
      " '4/12/2016 3:00:00 AM' '4/12/2016 4:00:00 AM' '4/12/2016 5:00:00 AM'\n",
      " '4/12/2016 6:00:00 AM' '4/12/2016 7:00:00 AM' '4/12/2016 8:00:00 AM'\n",
      " '4/12/2016 9:00:00 AM' '4/12/2016 10:00:00 AM' '4/12/2016 11:00:00 AM'\n",
      " '4/12/2016 12:00:00 PM' '4/12/2016 1:00:00 PM' '4/12/2016 2:00:00 PM'\n",
      " '4/12/2016 3:00:00 PM' '4/12/2016 4:00:00 PM' '4/12/2016 5:00:00 PM'\n",
      " '4/12/2016 6:00:00 PM' '4/12/2016 7:00:00 PM' '4/12/2016 8:00:00 PM'\n",
      " '4/12/2016 9:00:00 PM' '4/12/2016 10:00:00 PM' '4/12/2016 11:00:00 PM'\n",
      " '4/13/2016 12:00:00 AM' '4/13/2016 1:00:00 AM' '4/13/2016 2:00:00 AM'\n",
      " '4/13/2016 3:00:00 AM' '4/13/2016 4:00:00 AM' '4/13/2016 5:00:00 AM'\n",
      " '4/13/2016 6:00:00 AM' '4/13/2016 7:00:00 AM' '4/13/2016 8:00:00 AM'\n",
      " '4/13/2016 9:00:00 AM' '4/13/2016 10:00:00 AM' '4/13/2016 11:00:00 AM'\n",
      " '4/13/2016 12:00:00 PM' '4/13/2016 1:00:00 PM' '4/13/2016 2:00:00 PM'\n",
      " '4/13/2016 3:00:00 PM' '4/13/2016 4:00:00 PM' '4/13/2016 5:00:00 PM'\n",
      " '4/13/2016 6:00:00 PM' '4/13/2016 7:00:00 PM' '4/13/2016 8:00:00 PM'\n",
      " '4/13/2016 9:00:00 PM' '4/13/2016 10:00:00 PM' '4/13/2016 11:00:00 PM'\n",
      " '4/14/2016 12:00:00 AM' '4/14/2016 1:00:00 AM' '4/14/2016 2:00:00 AM'\n",
      " '4/14/2016 3:00:00 AM' '4/14/2016 4:00:00 AM' '4/14/2016 5:00:00 AM'\n",
      " '4/14/2016 6:00:00 AM' '4/14/2016 7:00:00 AM' '4/14/2016 8:00:00 AM'\n",
      " '4/14/2016 9:00:00 AM' '4/14/2016 10:00:00 AM' '4/14/2016 11:00:00 AM'\n",
      " '4/14/2016 12:00:00 PM' '4/14/2016 1:00:00 PM' '4/14/2016 2:00:00 PM'\n",
      " '4/14/2016 3:00:00 PM' '4/14/2016 4:00:00 PM' '4/14/2016 5:00:00 PM'\n",
      " '4/14/2016 6:00:00 PM' '4/14/2016 7:00:00 PM' '4/14/2016 8:00:00 PM'\n",
      " '4/14/2016 9:00:00 PM' '4/14/2016 10:00:00 PM' '4/14/2016 11:00:00 PM'\n",
      " '4/15/2016 12:00:00 AM' '4/15/2016 1:00:00 AM' '4/15/2016 2:00:00 AM'\n",
      " '4/15/2016 3:00:00 AM' '4/15/2016 4:00:00 AM' '4/15/2016 5:00:00 AM'\n",
      " '4/15/2016 6:00:00 AM' '4/15/2016 7:00:00 AM' '4/15/2016 8:00:00 AM'\n",
      " '4/15/2016 9:00:00 AM' '4/15/2016 10:00:00 AM' '4/15/2016 11:00:00 AM'\n",
      " '4/15/2016 12:00:00 PM' '4/15/2016 1:00:00 PM' '4/15/2016 2:00:00 PM'\n",
      " '4/15/2016 3:00:00 PM' '4/15/2016 4:00:00 PM' '4/15/2016 5:00:00 PM'\n",
      " '4/15/2016 6:00:00 PM' '4/15/2016 7:00:00 PM' '4/15/2016 8:00:00 PM'\n",
      " '4/15/2016 9:00:00 PM' '4/15/2016 10:00:00 PM' '4/15/2016 11:00:00 PM'\n",
      " '4/16/2016 12:00:00 AM' '4/16/2016 1:00:00 AM' '4/16/2016 2:00:00 AM'\n",
      " '4/16/2016 3:00:00 AM' '4/16/2016 4:00:00 AM' '4/16/2016 5:00:00 AM'\n",
      " '4/16/2016 6:00:00 AM' '4/16/2016 7:00:00 AM' '4/16/2016 8:00:00 AM'\n",
      " '4/16/2016 9:00:00 AM' '4/16/2016 10:00:00 AM' '4/16/2016 11:00:00 AM'\n",
      " '4/16/2016 12:00:00 PM' '4/16/2016 1:00:00 PM' '4/16/2016 2:00:00 PM'\n",
      " '4/16/2016 3:00:00 PM' '4/16/2016 4:00:00 PM' '4/16/2016 5:00:00 PM'\n",
      " '4/16/2016 6:00:00 PM' '4/16/2016 7:00:00 PM' '4/16/2016 8:00:00 PM'\n",
      " '4/16/2016 9:00:00 PM' '4/16/2016 10:00:00 PM' '4/16/2016 11:00:00 PM'\n",
      " '4/17/2016 12:00:00 AM' '4/17/2016 1:00:00 AM' '4/17/2016 2:00:00 AM'\n",
      " '4/17/2016 3:00:00 AM' '4/17/2016 4:00:00 AM' '4/17/2016 5:00:00 AM'\n",
      " '4/17/2016 6:00:00 AM' '4/17/2016 7:00:00 AM' '4/17/2016 8:00:00 AM'\n",
      " '4/17/2016 9:00:00 AM' '4/17/2016 10:00:00 AM' '4/17/2016 11:00:00 AM'\n",
      " '4/17/2016 12:00:00 PM' '4/17/2016 1:00:00 PM' '4/17/2016 2:00:00 PM'\n",
      " '4/17/2016 3:00:00 PM' '4/17/2016 4:00:00 PM' '4/17/2016 5:00:00 PM'\n",
      " '4/17/2016 6:00:00 PM' '4/17/2016 7:00:00 PM' '4/17/2016 8:00:00 PM'\n",
      " '4/17/2016 9:00:00 PM' '4/17/2016 10:00:00 PM' '4/17/2016 11:00:00 PM'\n",
      " '4/18/2016 12:00:00 AM' '4/18/2016 1:00:00 AM' '4/18/2016 2:00:00 AM'\n",
      " '4/18/2016 3:00:00 AM' '4/18/2016 4:00:00 AM' '4/18/2016 5:00:00 AM'\n",
      " '4/18/2016 6:00:00 AM' '4/18/2016 7:00:00 AM' '4/18/2016 8:00:00 AM'\n",
      " '4/18/2016 9:00:00 AM' '4/18/2016 10:00:00 AM' '4/18/2016 11:00:00 AM'\n",
      " '4/18/2016 12:00:00 PM' '4/18/2016 1:00:00 PM' '4/18/2016 2:00:00 PM'\n",
      " '4/18/2016 3:00:00 PM' '4/18/2016 4:00:00 PM' '4/18/2016 5:00:00 PM'\n",
      " '4/18/2016 6:00:00 PM' '4/18/2016 7:00:00 PM' '4/18/2016 8:00:00 PM'\n",
      " '4/18/2016 9:00:00 PM' '4/18/2016 10:00:00 PM' '4/18/2016 11:00:00 PM'\n",
      " '4/19/2016 12:00:00 AM' '4/19/2016 1:00:00 AM' '4/19/2016 2:00:00 AM'\n",
      " '4/19/2016 3:00:00 AM' '4/19/2016 4:00:00 AM' '4/19/2016 5:00:00 AM'\n",
      " '4/19/2016 6:00:00 AM' '4/19/2016 7:00:00 AM' '4/19/2016 8:00:00 AM'\n",
      " '4/19/2016 9:00:00 AM' '4/19/2016 10:00:00 AM' '4/19/2016 11:00:00 AM'\n",
      " '4/19/2016 12:00:00 PM' '4/19/2016 1:00:00 PM' '4/19/2016 2:00:00 PM'\n",
      " '4/19/2016 3:00:00 PM' '4/19/2016 4:00:00 PM' '4/19/2016 5:00:00 PM'\n",
      " '4/19/2016 6:00:00 PM' '4/19/2016 7:00:00 PM' '4/19/2016 8:00:00 PM'\n",
      " '4/19/2016 9:00:00 PM' '4/19/2016 10:00:00 PM' '4/19/2016 11:00:00 PM'\n",
      " '4/20/2016 12:00:00 AM' '4/20/2016 1:00:00 AM' '4/20/2016 2:00:00 AM'\n",
      " '4/20/2016 3:00:00 AM' '4/20/2016 4:00:00 AM' '4/20/2016 5:00:00 AM'\n",
      " '4/20/2016 6:00:00 AM' '4/20/2016 7:00:00 AM' '4/20/2016 8:00:00 AM'\n",
      " '4/20/2016 9:00:00 AM' '4/20/2016 10:00:00 AM' '4/20/2016 11:00:00 AM'\n",
      " '4/20/2016 12:00:00 PM' '4/20/2016 1:00:00 PM' '4/20/2016 2:00:00 PM'\n",
      " '4/20/2016 3:00:00 PM' '4/20/2016 4:00:00 PM' '4/20/2016 5:00:00 PM'\n",
      " '4/20/2016 6:00:00 PM' '4/20/2016 7:00:00 PM' '4/20/2016 8:00:00 PM'\n",
      " '4/20/2016 9:00:00 PM' '4/20/2016 10:00:00 PM' '4/20/2016 11:00:00 PM'\n",
      " '4/21/2016 12:00:00 AM' '4/21/2016 1:00:00 AM' '4/21/2016 2:00:00 AM'\n",
      " '4/21/2016 3:00:00 AM' '4/21/2016 4:00:00 AM' '4/21/2016 5:00:00 AM'\n",
      " '4/21/2016 6:00:00 AM' '4/21/2016 7:00:00 AM' '4/21/2016 8:00:00 AM'\n",
      " '4/21/2016 9:00:00 AM' '4/21/2016 10:00:00 AM' '4/21/2016 11:00:00 AM'\n",
      " '4/21/2016 12:00:00 PM' '4/21/2016 1:00:00 PM' '4/21/2016 2:00:00 PM'\n",
      " '4/21/2016 3:00:00 PM' '4/21/2016 4:00:00 PM' '4/21/2016 5:00:00 PM'\n",
      " '4/21/2016 6:00:00 PM' '4/21/2016 7:00:00 PM' '4/21/2016 8:00:00 PM'\n",
      " '4/21/2016 9:00:00 PM' '4/21/2016 10:00:00 PM' '4/21/2016 11:00:00 PM'\n",
      " '4/22/2016 12:00:00 AM' '4/22/2016 1:00:00 AM' '4/22/2016 2:00:00 AM'\n",
      " '4/22/2016 3:00:00 AM' '4/22/2016 4:00:00 AM' '4/22/2016 5:00:00 AM'\n",
      " '4/22/2016 6:00:00 AM' '4/22/2016 7:00:00 AM' '4/22/2016 8:00:00 AM'\n",
      " '4/22/2016 9:00:00 AM' '4/22/2016 10:00:00 AM' '4/22/2016 11:00:00 AM'\n",
      " '4/22/2016 12:00:00 PM' '4/22/2016 1:00:00 PM' '4/22/2016 2:00:00 PM'\n",
      " '4/22/2016 3:00:00 PM' '4/22/2016 4:00:00 PM' '4/22/2016 5:00:00 PM'\n",
      " '4/22/2016 6:00:00 PM' '4/22/2016 7:00:00 PM' '4/22/2016 8:00:00 PM'\n",
      " '4/22/2016 9:00:00 PM' '4/22/2016 10:00:00 PM' '4/22/2016 11:00:00 PM'\n",
      " '4/23/2016 12:00:00 AM' '4/23/2016 1:00:00 AM' '4/23/2016 2:00:00 AM'\n",
      " '4/23/2016 3:00:00 AM' '4/23/2016 4:00:00 AM' '4/23/2016 5:00:00 AM'\n",
      " '4/23/2016 6:00:00 AM' '4/23/2016 7:00:00 AM' '4/23/2016 8:00:00 AM'\n",
      " '4/23/2016 9:00:00 AM' '4/23/2016 10:00:00 AM' '4/23/2016 11:00:00 AM'\n",
      " '4/23/2016 12:00:00 PM' '4/23/2016 1:00:00 PM' '4/23/2016 2:00:00 PM'\n",
      " '4/23/2016 3:00:00 PM' '4/23/2016 4:00:00 PM' '4/23/2016 5:00:00 PM'\n",
      " '4/23/2016 6:00:00 PM' '4/23/2016 7:00:00 PM' '4/23/2016 8:00:00 PM'\n",
      " '4/23/2016 9:00:00 PM' '4/23/2016 10:00:00 PM' '4/23/2016 11:00:00 PM'\n",
      " '4/24/2016 12:00:00 AM' '4/24/2016 1:00:00 AM' '4/24/2016 2:00:00 AM'\n",
      " '4/24/2016 3:00:00 AM' '4/24/2016 4:00:00 AM' '4/24/2016 5:00:00 AM'\n",
      " '4/24/2016 6:00:00 AM' '4/24/2016 7:00:00 AM' '4/24/2016 8:00:00 AM'\n",
      " '4/24/2016 9:00:00 AM' '4/24/2016 10:00:00 AM' '4/24/2016 11:00:00 AM'\n",
      " '4/24/2016 12:00:00 PM' '4/24/2016 1:00:00 PM' '4/24/2016 2:00:00 PM'\n",
      " '4/24/2016 3:00:00 PM' '4/24/2016 4:00:00 PM' '4/24/2016 5:00:00 PM'\n",
      " '4/24/2016 6:00:00 PM' '4/24/2016 7:00:00 PM' '4/24/2016 8:00:00 PM'\n",
      " '4/24/2016 9:00:00 PM' '4/24/2016 10:00:00 PM' '4/24/2016 11:00:00 PM'\n",
      " '4/25/2016 12:00:00 AM' '4/25/2016 1:00:00 AM' '4/25/2016 2:00:00 AM'\n",
      " '4/25/2016 3:00:00 AM' '4/25/2016 4:00:00 AM' '4/25/2016 5:00:00 AM'\n",
      " '4/25/2016 6:00:00 AM' '4/25/2016 7:00:00 AM' '4/25/2016 8:00:00 AM'\n",
      " '4/25/2016 9:00:00 AM' '4/25/2016 10:00:00 AM' '4/25/2016 11:00:00 AM'\n",
      " '4/25/2016 12:00:00 PM' '4/25/2016 1:00:00 PM' '4/25/2016 2:00:00 PM'\n",
      " '4/25/2016 3:00:00 PM' '4/25/2016 4:00:00 PM' '4/25/2016 5:00:00 PM'\n",
      " '4/25/2016 6:00:00 PM' '4/25/2016 7:00:00 PM' '4/25/2016 8:00:00 PM'\n",
      " '4/25/2016 9:00:00 PM' '4/25/2016 10:00:00 PM' '4/25/2016 11:00:00 PM'\n",
      " '4/26/2016 12:00:00 AM' '4/26/2016 1:00:00 AM' '4/26/2016 2:00:00 AM'\n",
      " '4/26/2016 3:00:00 AM' '4/26/2016 4:00:00 AM' '4/26/2016 5:00:00 AM'\n",
      " '4/26/2016 6:00:00 AM' '4/26/2016 7:00:00 AM' '4/26/2016 8:00:00 AM'\n",
      " '4/26/2016 9:00:00 AM' '4/26/2016 10:00:00 AM' '4/26/2016 11:00:00 AM'\n",
      " '4/26/2016 12:00:00 PM' '4/26/2016 1:00:00 PM' '4/26/2016 2:00:00 PM'\n",
      " '4/26/2016 3:00:00 PM' '4/26/2016 4:00:00 PM' '4/26/2016 5:00:00 PM'\n",
      " '4/26/2016 6:00:00 PM' '4/26/2016 7:00:00 PM' '4/26/2016 8:00:00 PM'\n",
      " '4/26/2016 9:00:00 PM' '4/26/2016 10:00:00 PM' '4/26/2016 11:00:00 PM'\n",
      " '4/27/2016 12:00:00 AM' '4/27/2016 1:00:00 AM' '4/27/2016 2:00:00 AM'\n",
      " '4/27/2016 3:00:00 AM' '4/27/2016 4:00:00 AM' '4/27/2016 5:00:00 AM'\n",
      " '4/27/2016 6:00:00 AM' '4/27/2016 7:00:00 AM' '4/27/2016 8:00:00 AM'\n",
      " '4/27/2016 9:00:00 AM' '4/27/2016 10:00:00 AM' '4/27/2016 11:00:00 AM'\n",
      " '4/27/2016 12:00:00 PM' '4/27/2016 1:00:00 PM' '4/27/2016 2:00:00 PM'\n",
      " '4/27/2016 3:00:00 PM' '4/27/2016 4:00:00 PM' '4/27/2016 5:00:00 PM'\n",
      " '4/27/2016 6:00:00 PM' '4/27/2016 7:00:00 PM' '4/27/2016 8:00:00 PM'\n",
      " '4/27/2016 9:00:00 PM' '4/27/2016 10:00:00 PM' '4/27/2016 11:00:00 PM'\n",
      " '4/28/2016 12:00:00 AM' '4/28/2016 1:00:00 AM' '4/28/2016 2:00:00 AM'\n",
      " '4/28/2016 3:00:00 AM' '4/28/2016 4:00:00 AM' '4/28/2016 5:00:00 AM'\n",
      " '4/28/2016 6:00:00 AM' '4/28/2016 7:00:00 AM' '4/28/2016 8:00:00 AM'\n",
      " '4/28/2016 9:00:00 AM' '4/28/2016 10:00:00 AM' '4/28/2016 11:00:00 AM'\n",
      " '4/28/2016 12:00:00 PM' '4/28/2016 1:00:00 PM' '4/28/2016 2:00:00 PM'\n",
      " '4/28/2016 3:00:00 PM' '4/28/2016 4:00:00 PM' '4/28/2016 5:00:00 PM'\n",
      " '4/28/2016 6:00:00 PM' '4/28/2016 7:00:00 PM' '4/28/2016 8:00:00 PM'\n",
      " '4/28/2016 9:00:00 PM' '4/28/2016 10:00:00 PM' '4/28/2016 11:00:00 PM'\n",
      " '4/29/2016 12:00:00 AM' '4/29/2016 1:00:00 AM' '4/29/2016 2:00:00 AM'\n",
      " '4/29/2016 3:00:00 AM' '4/29/2016 4:00:00 AM' '4/29/2016 5:00:00 AM'\n",
      " '4/29/2016 6:00:00 AM' '4/29/2016 7:00:00 AM' '4/29/2016 8:00:00 AM'\n",
      " '4/29/2016 9:00:00 AM' '4/29/2016 10:00:00 AM' '4/29/2016 11:00:00 AM'\n",
      " '4/29/2016 12:00:00 PM' '4/29/2016 1:00:00 PM' '4/29/2016 2:00:00 PM'\n",
      " '4/29/2016 3:00:00 PM' '4/29/2016 4:00:00 PM' '4/29/2016 5:00:00 PM'\n",
      " '4/29/2016 6:00:00 PM' '4/29/2016 7:00:00 PM' '4/29/2016 8:00:00 PM'\n",
      " '4/29/2016 9:00:00 PM' '4/29/2016 10:00:00 PM' '4/29/2016 11:00:00 PM'\n",
      " '4/30/2016 12:00:00 AM' '4/30/2016 1:00:00 AM' '4/30/2016 2:00:00 AM'\n",
      " '4/30/2016 3:00:00 AM' '4/30/2016 4:00:00 AM' '4/30/2016 5:00:00 AM'\n",
      " '4/30/2016 6:00:00 AM' '4/30/2016 7:00:00 AM' '4/30/2016 8:00:00 AM'\n",
      " '4/30/2016 9:00:00 AM' '4/30/2016 10:00:00 AM' '4/30/2016 11:00:00 AM'\n",
      " '4/30/2016 12:00:00 PM' '4/30/2016 1:00:00 PM' '4/30/2016 2:00:00 PM'\n",
      " '4/30/2016 3:00:00 PM' '4/30/2016 4:00:00 PM' '4/30/2016 5:00:00 PM'\n",
      " '4/30/2016 6:00:00 PM' '4/30/2016 7:00:00 PM' '4/30/2016 8:00:00 PM'\n",
      " '4/30/2016 9:00:00 PM' '4/30/2016 10:00:00 PM' '4/30/2016 11:00:00 PM'\n",
      " '5/1/2016 12:00:00 AM' '5/1/2016 1:00:00 AM' '5/1/2016 2:00:00 AM'\n",
      " '5/1/2016 3:00:00 AM' '5/1/2016 4:00:00 AM' '5/1/2016 5:00:00 AM'\n",
      " '5/1/2016 6:00:00 AM' '5/1/2016 7:00:00 AM' '5/1/2016 8:00:00 AM'\n",
      " '5/1/2016 9:00:00 AM' '5/1/2016 10:00:00 AM' '5/1/2016 11:00:00 AM'\n",
      " '5/1/2016 12:00:00 PM' '5/1/2016 1:00:00 PM' '5/1/2016 2:00:00 PM'\n",
      " '5/1/2016 3:00:00 PM' '5/1/2016 4:00:00 PM' '5/1/2016 5:00:00 PM'\n",
      " '5/1/2016 6:00:00 PM' '5/1/2016 7:00:00 PM' '5/1/2016 8:00:00 PM'\n",
      " '5/1/2016 9:00:00 PM' '5/1/2016 10:00:00 PM' '5/1/2016 11:00:00 PM'\n",
      " '5/2/2016 12:00:00 AM' '5/2/2016 1:00:00 AM' '5/2/2016 2:00:00 AM'\n",
      " '5/2/2016 3:00:00 AM' '5/2/2016 4:00:00 AM' '5/2/2016 5:00:00 AM'\n",
      " '5/2/2016 6:00:00 AM' '5/2/2016 7:00:00 AM' '5/2/2016 8:00:00 AM'\n",
      " '5/2/2016 9:00:00 AM' '5/2/2016 10:00:00 AM' '5/2/2016 11:00:00 AM'\n",
      " '5/2/2016 12:00:00 PM' '5/2/2016 1:00:00 PM' '5/2/2016 2:00:00 PM'\n",
      " '5/2/2016 3:00:00 PM' '5/2/2016 4:00:00 PM' '5/2/2016 5:00:00 PM'\n",
      " '5/2/2016 6:00:00 PM' '5/2/2016 7:00:00 PM' '5/2/2016 8:00:00 PM'\n",
      " '5/2/2016 9:00:00 PM' '5/2/2016 10:00:00 PM' '5/2/2016 11:00:00 PM'\n",
      " '5/3/2016 12:00:00 AM' '5/3/2016 1:00:00 AM' '5/3/2016 2:00:00 AM'\n",
      " '5/3/2016 3:00:00 AM' '5/3/2016 4:00:00 AM' '5/3/2016 5:00:00 AM'\n",
      " '5/3/2016 6:00:00 AM' '5/3/2016 7:00:00 AM' '5/3/2016 8:00:00 AM'\n",
      " '5/3/2016 9:00:00 AM' '5/3/2016 10:00:00 AM' '5/3/2016 11:00:00 AM'\n",
      " '5/3/2016 12:00:00 PM' '5/3/2016 1:00:00 PM' '5/3/2016 2:00:00 PM'\n",
      " '5/3/2016 3:00:00 PM' '5/3/2016 4:00:00 PM' '5/3/2016 5:00:00 PM'\n",
      " '5/3/2016 6:00:00 PM' '5/3/2016 7:00:00 PM' '5/3/2016 8:00:00 PM'\n",
      " '5/3/2016 9:00:00 PM' '5/3/2016 10:00:00 PM' '5/3/2016 11:00:00 PM'\n",
      " '5/4/2016 12:00:00 AM' '5/4/2016 1:00:00 AM' '5/4/2016 2:00:00 AM'\n",
      " '5/4/2016 3:00:00 AM' '5/4/2016 4:00:00 AM' '5/4/2016 5:00:00 AM'\n",
      " '5/4/2016 6:00:00 AM' '5/4/2016 7:00:00 AM' '5/4/2016 8:00:00 AM'\n",
      " '5/4/2016 9:00:00 AM' '5/4/2016 10:00:00 AM' '5/4/2016 11:00:00 AM'\n",
      " '5/4/2016 12:00:00 PM' '5/4/2016 1:00:00 PM' '5/4/2016 2:00:00 PM'\n",
      " '5/4/2016 3:00:00 PM' '5/4/2016 4:00:00 PM' '5/4/2016 5:00:00 PM'\n",
      " '5/4/2016 6:00:00 PM' '5/4/2016 7:00:00 PM' '5/4/2016 8:00:00 PM'\n",
      " '5/4/2016 9:00:00 PM' '5/4/2016 10:00:00 PM' '5/4/2016 11:00:00 PM'\n",
      " '5/5/2016 12:00:00 AM' '5/5/2016 1:00:00 AM' '5/5/2016 2:00:00 AM'\n",
      " '5/5/2016 3:00:00 AM' '5/5/2016 4:00:00 AM' '5/5/2016 5:00:00 AM'\n",
      " '5/5/2016 6:00:00 AM' '5/5/2016 7:00:00 AM' '5/5/2016 8:00:00 AM'\n",
      " '5/5/2016 9:00:00 AM' '5/5/2016 10:00:00 AM' '5/5/2016 11:00:00 AM'\n",
      " '5/5/2016 12:00:00 PM' '5/5/2016 1:00:00 PM' '5/5/2016 2:00:00 PM'\n",
      " '5/5/2016 3:00:00 PM' '5/5/2016 4:00:00 PM' '5/5/2016 5:00:00 PM'\n",
      " '5/5/2016 6:00:00 PM' '5/5/2016 7:00:00 PM' '5/5/2016 8:00:00 PM'\n",
      " '5/5/2016 9:00:00 PM' '5/5/2016 10:00:00 PM' '5/5/2016 11:00:00 PM'\n",
      " '5/6/2016 12:00:00 AM' '5/6/2016 1:00:00 AM' '5/6/2016 2:00:00 AM'\n",
      " '5/6/2016 3:00:00 AM' '5/6/2016 4:00:00 AM' '5/6/2016 5:00:00 AM'\n",
      " '5/6/2016 6:00:00 AM' '5/6/2016 7:00:00 AM' '5/6/2016 8:00:00 AM'\n",
      " '5/6/2016 9:00:00 AM' '5/6/2016 10:00:00 AM' '5/6/2016 11:00:00 AM'\n",
      " '5/6/2016 12:00:00 PM' '5/6/2016 1:00:00 PM' '5/6/2016 2:00:00 PM'\n",
      " '5/6/2016 3:00:00 PM' '5/6/2016 4:00:00 PM' '5/6/2016 5:00:00 PM'\n",
      " '5/6/2016 6:00:00 PM' '5/6/2016 7:00:00 PM' '5/6/2016 8:00:00 PM'\n",
      " '5/6/2016 9:00:00 PM' '5/6/2016 10:00:00 PM' '5/6/2016 11:00:00 PM'\n",
      " '5/7/2016 12:00:00 AM' '5/7/2016 1:00:00 AM' '5/7/2016 2:00:00 AM'\n",
      " '5/7/2016 3:00:00 AM' '5/7/2016 4:00:00 AM' '5/7/2016 5:00:00 AM'\n",
      " '5/7/2016 6:00:00 AM' '5/7/2016 7:00:00 AM' '5/7/2016 8:00:00 AM'\n",
      " '5/7/2016 9:00:00 AM' '5/7/2016 10:00:00 AM' '5/7/2016 11:00:00 AM'\n",
      " '5/7/2016 12:00:00 PM' '5/7/2016 1:00:00 PM' '5/7/2016 2:00:00 PM'\n",
      " '5/7/2016 3:00:00 PM' '5/7/2016 4:00:00 PM' '5/7/2016 5:00:00 PM'\n",
      " '5/7/2016 6:00:00 PM' '5/7/2016 7:00:00 PM' '5/7/2016 8:00:00 PM'\n",
      " '5/7/2016 9:00:00 PM' '5/7/2016 10:00:00 PM' '5/7/2016 11:00:00 PM'\n",
      " '5/8/2016 12:00:00 AM' '5/8/2016 1:00:00 AM' '5/8/2016 2:00:00 AM'\n",
      " '5/8/2016 3:00:00 AM' '5/8/2016 4:00:00 AM' '5/8/2016 5:00:00 AM'\n",
      " '5/8/2016 6:00:00 AM' '5/8/2016 7:00:00 AM' '5/8/2016 8:00:00 AM'\n",
      " '5/8/2016 9:00:00 AM' '5/8/2016 10:00:00 AM' '5/8/2016 11:00:00 AM'\n",
      " '5/8/2016 12:00:00 PM' '5/8/2016 1:00:00 PM' '5/8/2016 2:00:00 PM'\n",
      " '5/8/2016 3:00:00 PM' '5/8/2016 4:00:00 PM' '5/8/2016 5:00:00 PM'\n",
      " '5/8/2016 6:00:00 PM' '5/8/2016 7:00:00 PM' '5/8/2016 8:00:00 PM'\n",
      " '5/8/2016 9:00:00 PM' '5/8/2016 10:00:00 PM' '5/8/2016 11:00:00 PM'\n",
      " '5/9/2016 12:00:00 AM' '5/9/2016 1:00:00 AM' '5/9/2016 2:00:00 AM'\n",
      " '5/9/2016 3:00:00 AM' '5/9/2016 4:00:00 AM' '5/9/2016 5:00:00 AM'\n",
      " '5/9/2016 6:00:00 AM' '5/9/2016 7:00:00 AM' '5/9/2016 8:00:00 AM'\n",
      " '5/9/2016 9:00:00 AM' '5/9/2016 10:00:00 AM' '5/9/2016 11:00:00 AM'\n",
      " '5/9/2016 12:00:00 PM' '5/9/2016 1:00:00 PM' '5/9/2016 2:00:00 PM'\n",
      " '5/9/2016 3:00:00 PM' '5/9/2016 4:00:00 PM' '5/9/2016 5:00:00 PM'\n",
      " '5/9/2016 6:00:00 PM' '5/9/2016 7:00:00 PM' '5/9/2016 8:00:00 PM'\n",
      " '5/9/2016 9:00:00 PM' '5/9/2016 10:00:00 PM' '5/9/2016 11:00:00 PM'\n",
      " '5/10/2016 12:00:00 AM' '5/10/2016 1:00:00 AM' '5/10/2016 2:00:00 AM'\n",
      " '5/10/2016 3:00:00 AM' '5/10/2016 4:00:00 AM' '5/10/2016 5:00:00 AM'\n",
      " '5/10/2016 6:00:00 AM' '5/10/2016 7:00:00 AM' '5/10/2016 8:00:00 AM'\n",
      " '5/10/2016 9:00:00 AM' '5/10/2016 10:00:00 AM' '5/10/2016 11:00:00 AM'\n",
      " '5/10/2016 12:00:00 PM' '5/10/2016 1:00:00 PM' '5/10/2016 2:00:00 PM'\n",
      " '5/10/2016 3:00:00 PM' '5/10/2016 4:00:00 PM' '5/10/2016 5:00:00 PM'\n",
      " '5/10/2016 6:00:00 PM' '5/10/2016 7:00:00 PM' '5/10/2016 8:00:00 PM'\n",
      " '5/10/2016 9:00:00 PM' '5/10/2016 10:00:00 PM' '5/10/2016 11:00:00 PM'\n",
      " '5/11/2016 12:00:00 AM' '5/11/2016 1:00:00 AM' '5/11/2016 2:00:00 AM'\n",
      " '5/11/2016 3:00:00 AM' '5/11/2016 4:00:00 AM' '5/11/2016 5:00:00 AM'\n",
      " '5/11/2016 6:00:00 AM' '5/11/2016 7:00:00 AM' '5/11/2016 8:00:00 AM'\n",
      " '5/11/2016 9:00:00 AM' '5/11/2016 10:00:00 AM' '5/11/2016 11:00:00 AM'\n",
      " '5/11/2016 12:00:00 PM' '5/11/2016 1:00:00 PM' '5/11/2016 2:00:00 PM'\n",
      " '5/11/2016 3:00:00 PM' '5/11/2016 4:00:00 PM' '5/11/2016 5:00:00 PM'\n",
      " '5/11/2016 6:00:00 PM' '5/11/2016 7:00:00 PM' '5/11/2016 8:00:00 PM'\n",
      " '5/11/2016 9:00:00 PM' '5/11/2016 10:00:00 PM' '5/11/2016 11:00:00 PM'\n",
      " '5/12/2016 12:00:00 AM' '5/12/2016 1:00:00 AM' '5/12/2016 2:00:00 AM'\n",
      " '5/12/2016 3:00:00 AM' '5/12/2016 4:00:00 AM' '5/12/2016 5:00:00 AM'\n",
      " '5/12/2016 6:00:00 AM' '5/12/2016 7:00:00 AM' '5/12/2016 8:00:00 AM'\n",
      " '5/12/2016 9:00:00 AM' '5/12/2016 10:00:00 AM' '5/12/2016 11:00:00 AM'\n",
      " '5/12/2016 12:00:00 PM' '5/12/2016 1:00:00 PM' '5/12/2016 2:00:00 PM'\n",
      " '5/12/2016 3:00:00 PM']\n",
      "[ 20   8   7   0  13  30  29  12  11   6  36  58  16  39  41  31   9  21\n",
      "  14   4  27  15  10  46  23  25  56   3  18  54  22   5   1  24  57  17\n",
      "   2  47  32  66  95  38  42  90  19  71  87  40 114  61  65  69  48  50\n",
      "  33  26  92  34 159  49  51  52 131  86 132  60  72  35  73 150  70  99\n",
      "  55  28  76  64 105  37  67  62 113  59 108 115  75  43 102  45  44 112\n",
      "  77 147 167 169 100  53 130  63  98  93  83  94  81  88 143 145 104 117\n",
      " 133 157 121 139  80  97 151  84 155 111 126 134 118  68 106 142 148  96\n",
      "  74 101 116  78  89 109  85 129 124  91  82 154  79 137 123 103 119 144\n",
      " 107 125 180 152 128 172 170 122 127 160 176 173 156 174 153 158 166 138\n",
      " 136 177 140 168 110 179 135 149 165 162 178 161 163]\n",
      "[0.333333 0.133333 0.116667 0.       0.216667 0.5      0.483333 0.2\n",
      " 0.183333 0.1      0.6      0.966667 0.266667 0.65     0.683333 0.516667\n",
      " 0.15     0.35     0.233333 0.066667 0.45     0.25     0.166667 0.766667\n",
      " 0.383333 0.416667 0.933333 0.05     0.3      0.9      0.366667 0.083333\n",
      " 0.016667 0.4      0.95     0.283333 0.033333 0.783333 0.533333 1.1\n",
      " 1.583333 0.633333 0.7      1.5      0.316667 1.183333 1.45     0.666667\n",
      " 1.9      1.016667 1.083333 1.15     0.8      0.833333 0.55     0.433333\n",
      " 1.533333 0.566667 2.65     0.816667 0.85     0.866667 2.183333 1.433333\n",
      " 2.2      1.       1.2      0.583333 1.216667 2.5      1.166667 1.65\n",
      " 0.916667 0.466667 1.266667 1.066667 1.75     0.616667 1.116667 1.033333\n",
      " 1.883333 0.983333 1.8      1.916667 1.25     0.716667 1.7      0.75\n",
      " 0.733333 1.866667 1.283333 2.45     2.783333 2.816667 1.666667 0.883333\n",
      " 2.166667 1.05     1.633333 1.55     1.383333 1.566667 1.35     1.466667\n",
      " 2.383333 2.416667 1.733333 1.95     2.216667 2.616667 2.016667 2.316667\n",
      " 1.333333 1.616667 2.516667 1.4      2.583333 1.85     2.1      2.233333\n",
      " 1.966667 1.133333 1.766667 2.366667 2.466667 1.6      1.233333 1.683333\n",
      " 1.933333 1.3      1.483333 1.816667 1.416667 2.15     2.066667 1.516667\n",
      " 1.366667 2.566667 1.316667 2.283333 2.05     1.716667 1.983333 2.4\n",
      " 1.783333 2.083333 3.       2.533333 2.133333 2.866667 2.833333 2.033333\n",
      " 2.116667 2.666667 2.933333 2.883333 2.6      2.9      2.55     2.633333\n",
      " 2.766667 2.3      2.266667 2.95     2.333333 2.8      1.833333 2.983333\n",
      " 2.25     2.483333 2.75     2.7      2.966667 2.683333 2.716667]\n"
     ]
    }
   ],
   "source": [
    "# Explore unique values in a specific columns\n",
    "print(dfHourlyIntensity['Id'].unique())\n",
    "print(dfHourlyIntensity['ActivityHour'].unique())\n",
    "print(dfHourlyIntensity['TotalIntensity'].unique())\n",
    "print(dfHourlyIntensity['AverageIntensity'].unique())"
   ]
  },
  {
   "cell_type": "code",
   "execution_count": 10,
   "metadata": {},
   "outputs": [
    {
     "name": "stdout",
     "output_type": "stream",
     "text": [
      "Number of Duplicate Rows: 0\n",
      "\n",
      "As No Duplicate Rows:\n",
      "Empty DataFrame\n",
      "Columns: [Id, ActivityHour, TotalIntensity, AverageIntensity]\n",
      "Index: []\n",
      "\n",
      "No Existing Duplicates:\n",
      "Total Number of Rows: 22099\n"
     ]
    }
   ],
   "source": [
    "# Checking for duplicate rows\n",
    "duplicates = dfHourlyIntensity.duplicated()\n",
    "print(\"Number of Duplicate Rows:\", duplicates.sum())\n",
    "\n",
    "duplicate_rows = dfHourlyIntensity[duplicates]\n",
    "print(\"\\nAs No Duplicate Rows:\")\n",
    "print(duplicate_rows)\n",
    "\n",
    "# Removing the Duplicate Rows\n",
    "dfHourlyIntensity = dfHourlyIntensity.drop_duplicates()\n",
    "\n",
    "# Verifying afterwards\n",
    "print(\"\\nNo Existing Duplicates:\")\n",
    "print(\"Total Number of Rows:\", len(dfHourlyIntensity))"
   ]
  },
  {
   "cell_type": "code",
   "execution_count": 11,
   "metadata": {},
   "outputs": [
    {
     "data": {
      "image/png": "[encoded data removed]",
      "text/plain": [
       "<Figure size 1500x1000 with 4 Axes>"
      ]
     },
     "metadata": {},
     "output_type": "display_data"
    }
   ],
   "source": [
    "# Visualizing the features to identify the outliers.\n",
    "import seaborn as sns\n",
    "import matplotlib.pyplot as plt\n",
    "plt.figure(figsize=(15, 10))\n",
    "\n",
    "for i, column in enumerate(dfHourlyIntensity.columns):\n",
    "    plt.subplot(3, 5, i+1)  \n",
    "    sns.boxplot(x=dfHourlyIntensity[column])\n",
    "    plt.title(f'Box Plot of {column}')\n",
    "\n",
    "plt.tight_layout()\n",
    "plt.show()"
   ]
  },
  {
   "cell_type": "markdown",
   "metadata": {},
   "source": [
    "Handling the Outliers Separately on Features"
   ]
  },
  {
   "cell_type": "markdown",
   "metadata": {},
   "source": [
    "1. TotalIntensity"
   ]
  },
  {
   "cell_type": "code",
   "execution_count": 17,
   "metadata": {},
   "outputs": [
    {
     "name": "stdout",
     "output_type": "stream",
     "text": [
      "Capped TotalIntensity:\n",
      "count    22099.000000\n",
      "mean         8.879497\n",
      "std         10.869365\n",
      "min          0.000000\n",
      "25%          0.000000\n",
      "50%          3.000000\n",
      "75%         16.000000\n",
      "max         30.000000\n",
      "Name: TotalIntensity, dtype: float64\n"
     ]
    }
   ],
   "source": [
    "# We are applying capping\n",
    "TotalIntensityUpperLimit = 30\n",
    "\n",
    "dfHourlyIntensity['TotalIntensity'] = dfHourlyIntensity['TotalIntensity'].clip(upper=TotalIntensityUpperLimit)\n",
    "print(\"Capped TotalIntensity:\")\n",
    "print(dfHourlyIntensity['TotalIntensity'].describe())"
   ]
  },
  {
   "cell_type": "markdown",
   "metadata": {},
   "source": [
    "2. AverageIntensity"
   ]
  },
  {
   "cell_type": "code",
   "execution_count": 21,
   "metadata": {},
   "outputs": [
    {
     "name": "stdout",
     "output_type": "stream",
     "text": [
      "Capped AverageIntensity:\n",
      "count    22099.000000\n",
      "mean         0.157642\n",
      "std          0.201073\n",
      "min          0.000000\n",
      "25%          0.000000\n",
      "50%          0.050000\n",
      "75%          0.266667\n",
      "max          0.600000\n",
      "Name: AverageIntensity, dtype: float64\n"
     ]
    }
   ],
   "source": [
    "AverageIntensityUpperLimit = 0.6\n",
    "\n",
    "# Applying capping for TotalDistance\n",
    "dfHourlyIntensity['AverageIntensity'] = dfHourlyIntensity['AverageIntensity'].clip(upper=AverageIntensityUpperLimit)\n",
    "print(\"Capped AverageIntensity:\")\n",
    "print(dfHourlyIntensity['AverageIntensity'].describe())"
   ]
  },
  {
   "cell_type": "code",
   "execution_count": 22,
   "metadata": {},
   "outputs": [
    {
     "name": "stdout",
     "output_type": "stream",
     "text": [
      "                 Id  TotalIntensity  AverageIntensity\n",
      "count  2.209900e+04    22099.000000      22099.000000\n",
      "mean   4.848235e+09        8.879497          0.157642\n",
      "std    2.422500e+09       10.869365          0.201073\n",
      "min    1.503960e+09        0.000000          0.000000\n",
      "25%    2.320127e+09        0.000000          0.000000\n",
      "50%    4.445115e+09        3.000000          0.050000\n",
      "75%    6.962181e+09       16.000000          0.266667\n",
      "max    8.877689e+09       30.000000          0.600000\n"
     ]
    }
   ],
   "source": [
    "# Displaying summary statistics of all columns\n",
    "print(dfHourlyIntensity.describe())\n"
   ]
  },
  {
   "cell_type": "code",
   "execution_count": 23,
   "metadata": {},
   "outputs": [
    {
     "data": {
      "image/png": "[encoded data removed]",
      "text/plain": [
       "<Figure size 1600x1000 with 4 Axes>"
      ]
     },
     "metadata": {},
     "output_type": "display_data"
    }
   ],
   "source": [
    "import seaborn as sns\n",
    "import matplotlib.pyplot as plt\n",
    "\n",
    "# Set the size of the plot\n",
    "plt.figure(figsize=(16, 10))\n",
    "\n",
    "# Iterate through each column in the DataFrame\n",
    "for column in dfHourlyIntensity.columns:\n",
    "    # Create a box plot for each feature\n",
    "    plt.subplot(3, 5, dfHourlyIntensity.columns.get_loc(column) + 1)  # Adjust the subplot grid as needed\n",
    "    sns.boxplot(x=dfHourlyIntensity[column])\n",
    "    plt.title(column)\n",
    "\n",
    "# Adjust layout\n",
    "plt.tight_layout()\n",
    "\n",
    "# Show the plot\n",
    "plt.show()\n"
   ]
  },
  {
   "cell_type": "code",
   "execution_count": 24,
   "metadata": {},
   "outputs": [
    {
     "name": "stdout",
     "output_type": "stream",
     "text": [
      "Filtered dataset saved to: /University/6th Semester/Sixth Semester/IDS-AIProject/FilteredFitbaseData/hourlyIntensities_merged_Filtered.csv\n"
     ]
    }
   ],
   "source": [
    "# df_daily_activity is our DataFrame with outliers removed\n",
    "\n",
    "# Specifying the path to save the filtered dataset\n",
    "filteredDatasetPath = '/University/6th Semester/Sixth Semester/IDS-AIProject/FilteredFitbaseData/hourlyIntensities_merged_Filtered.csv'\n",
    "\n",
    "# Saving the DataFrame to a CSV file\n",
    "dfHourlyIntensity.to_csv(filteredDatasetPath, index=False)\n",
    "\n",
    "print(f\"Filtered dataset saved to: {filteredDatasetPath}\")"
   ]
  }
 ],
 "metadata": {
  "kernelspec": {
   "display_name": "Python 3",
   "language": "python",
   "name": "python3"
  },
  "language_info": {
   "codemirror_mode": {
    "name": "ipython",
    "version": 3
   },
   "file_extension": ".py",
   "mimetype": "text/x-python",
   "name": "python",
   "nbconvert_exporter": "python",
   "pygments_lexer": "ipython3",
   "version": "3.12.0"
  }
 },
 "nbformat": 4,
 "nbformat_minor": 2
}
