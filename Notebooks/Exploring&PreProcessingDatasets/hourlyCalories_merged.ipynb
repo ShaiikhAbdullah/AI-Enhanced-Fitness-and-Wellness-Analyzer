{
 "cells": [
  {
   "cell_type": "markdown",
   "metadata": {},
   "source": [
    "Exploring the dailyActivity_merged Dataset of our Project"
   ]
  },
  {
   "cell_type": "code",
   "execution_count": 1,
   "metadata": {},
   "outputs": [
    {
     "name": "stdout",
     "output_type": "stream",
     "text": [
      "           Id           ActivityHour  Calories\n",
      "0  1503960366  4/12/2016 12:00:00 AM        81\n",
      "1  1503960366   4/12/2016 1:00:00 AM        61\n",
      "2  1503960366   4/12/2016 2:00:00 AM        59\n",
      "3  1503960366   4/12/2016 3:00:00 AM        47\n",
      "4  1503960366   4/12/2016 4:00:00 AM        48\n"
     ]
    }
   ],
   "source": [
    "import pandas as pd\n",
    "\n",
    "filePath = '/University/6th Semester/Sixth Semester/IDS-AIProject/FitabaseData4.12.16-5.12.16/hourlyCalories_merged.csv'\n",
    "dfHourlyCalories = pd.read_csv(filePath)\n",
    "# displaying the first few rows of our datset.\n",
    "print(dfHourlyCalories.head())"
   ]
  },
  {
   "cell_type": "code",
   "execution_count": 2,
   "metadata": {},
   "outputs": [
    {
     "name": "stdout",
     "output_type": "stream",
     "text": [
      "<class 'pandas.core.frame.DataFrame'>\n",
      "RangeIndex: 22099 entries, 0 to 22098\n",
      "Data columns (total 3 columns):\n",
      " #   Column        Non-Null Count  Dtype \n",
      "---  ------        --------------  ----- \n",
      " 0   Id            22099 non-null  int64 \n",
      " 1   ActivityHour  22099 non-null  object\n",
      " 2   Calories      22099 non-null  int64 \n",
      "dtypes: int64(2), object(1)\n",
      "memory usage: 518.1+ KB\n",
      "None\n"
     ]
    }
   ],
   "source": [
    "# Displaying the basic information about the dataset\n",
    "print(dfHourlyCalories.info())"
   ]
  },
  {
   "cell_type": "code",
   "execution_count": 3,
   "metadata": {},
   "outputs": [
    {
     "name": "stdout",
     "output_type": "stream",
     "text": [
      "                 Id      Calories\n",
      "count  2.209900e+04  22099.000000\n",
      "mean   4.848235e+09     97.386760\n",
      "std    2.422500e+09     60.702622\n",
      "min    1.503960e+09     42.000000\n",
      "25%    2.320127e+09     63.000000\n",
      "50%    4.445115e+09     83.000000\n",
      "75%    6.962181e+09    108.000000\n",
      "max    8.877689e+09    948.000000\n"
     ]
    }
   ],
   "source": [
    "# Displaying the summary statistics of numeric columns\n",
    "print(dfHourlyCalories.describe())"
   ]
  },
  {
   "cell_type": "code",
   "execution_count": 4,
   "metadata": {},
   "outputs": [
    {
     "name": "stdout",
     "output_type": "stream",
     "text": [
      "Index(['Id', 'ActivityHour', 'Calories'], dtype='object')\n"
     ]
    }
   ],
   "source": [
    "# Displaying the names of all columns\n",
    "print(dfHourlyCalories.columns)"
   ]
  },
  {
   "cell_type": "markdown",
   "metadata": {},
   "source": [
    "Data Preprocessing"
   ]
  },
  {
   "cell_type": "code",
   "execution_count": 5,
   "metadata": {},
   "outputs": [
    {
     "name": "stdout",
     "output_type": "stream",
     "text": [
      "Id              0\n",
      "ActivityHour    0\n",
      "Calories        0\n",
      "dtype: int64\n"
     ]
    }
   ],
   "source": [
    "# Checking for missing values in each column\n",
    "print(dfHourlyCalories.isnull().sum())"
   ]
  },
  {
   "cell_type": "code",
   "execution_count": 6,
   "metadata": {},
   "outputs": [
    {
     "name": "stdout",
     "output_type": "stream",
     "text": [
      "[1503960366 1624580081 1644430081 1844505072 1927972279 2022484408\n",
      " 2026352035 2320127002 2347167796 2873212765 3372868164 3977333714\n",
      " 4020332650 4057192912 4319703577 4388161847 4445114986 4558609924\n",
      " 4702921684 5553957443 5577150313 6117666160 6290855005 6775888955\n",
      " 6962181067 7007744171 7086361926 8053475328 8253242879 8378563200\n",
      " 8583815059 8792009665 8877689391]\n",
      "['4/12/2016 12:00:00 AM' '4/12/2016 1:00:00 AM' '4/12/2016 2:00:00 AM'\n",
      " '4/12/2016 3:00:00 AM' '4/12/2016 4:00:00 AM' '4/12/2016 5:00:00 AM'\n",
      " '4/12/2016 6:00:00 AM' '4/12/2016 7:00:00 AM' '4/12/2016 8:00:00 AM'\n",
      " '4/12/2016 9:00:00 AM' '4/12/2016 10:00:00 AM' '4/12/2016 11:00:00 AM'\n",
      " '4/12/2016 12:00:00 PM' '4/12/2016 1:00:00 PM' '4/12/2016 2:00:00 PM'\n",
      " '4/12/2016 3:00:00 PM' '4/12/2016 4:00:00 PM' '4/12/2016 5:00:00 PM'\n",
      " '4/12/2016 6:00:00 PM' '4/12/2016 7:00:00 PM' '4/12/2016 8:00:00 PM'\n",
      " '4/12/2016 9:00:00 PM' '4/12/2016 10:00:00 PM' '4/12/2016 11:00:00 PM'\n",
      " '4/13/2016 12:00:00 AM' '4/13/2016 1:00:00 AM' '4/13/2016 2:00:00 AM'\n",
      " '4/13/2016 3:00:00 AM' '4/13/2016 4:00:00 AM' '4/13/2016 5:00:00 AM'\n",
      " '4/13/2016 6:00:00 AM' '4/13/2016 7:00:00 AM' '4/13/2016 8:00:00 AM'\n",
      " '4/13/2016 9:00:00 AM' '4/13/2016 10:00:00 AM' '4/13/2016 11:00:00 AM'\n",
      " '4/13/2016 12:00:00 PM' '4/13/2016 1:00:00 PM' '4/13/2016 2:00:00 PM'\n",
      " '4/13/2016 3:00:00 PM' '4/13/2016 4:00:00 PM' '4/13/2016 5:00:00 PM'\n",
      " '4/13/2016 6:00:00 PM' '4/13/2016 7:00:00 PM' '4/13/2016 8:00:00 PM'\n",
      " '4/13/2016 9:00:00 PM' '4/13/2016 10:00:00 PM' '4/13/2016 11:00:00 PM'\n",
      " '4/14/2016 12:00:00 AM' '4/14/2016 1:00:00 AM' '4/14/2016 2:00:00 AM'\n",
      " '4/14/2016 3:00:00 AM' '4/14/2016 4:00:00 AM' '4/14/2016 5:00:00 AM'\n",
      " '4/14/2016 6:00:00 AM' '4/14/2016 7:00:00 AM' '4/14/2016 8:00:00 AM'\n",
      " '4/14/2016 9:00:00 AM' '4/14/2016 10:00:00 AM' '4/14/2016 11:00:00 AM'\n",
      " '4/14/2016 12:00:00 PM' '4/14/2016 1:00:00 PM' '4/14/2016 2:00:00 PM'\n",
      " '4/14/2016 3:00:00 PM' '4/14/2016 4:00:00 PM' '4/14/2016 5:00:00 PM'\n",
      " '4/14/2016 6:00:00 PM' '4/14/2016 7:00:00 PM' '4/14/2016 8:00:00 PM'\n",
      " '4/14/2016 9:00:00 PM' '4/14/2016 10:00:00 PM' '4/14/2016 11:00:00 PM'\n",
      " '4/15/2016 12:00:00 AM' '4/15/2016 1:00:00 AM' '4/15/2016 2:00:00 AM'\n",
      " '4/15/2016 3:00:00 AM' '4/15/2016 4:00:00 AM' '4/15/2016 5:00:00 AM'\n",
      " '4/15/2016 6:00:00 AM' '4/15/2016 7:00:00 AM' '4/15/2016 8:00:00 AM'\n",
      " '4/15/2016 9:00:00 AM' '4/15/2016 10:00:00 AM' '4/15/2016 11:00:00 AM'\n",
      " '4/15/2016 12:00:00 PM' '4/15/2016 1:00:00 PM' '4/15/2016 2:00:00 PM'\n",
      " '4/15/2016 3:00:00 PM' '4/15/2016 4:00:00 PM' '4/15/2016 5:00:00 PM'\n",
      " '4/15/2016 6:00:00 PM' '4/15/2016 7:00:00 PM' '4/15/2016 8:00:00 PM'\n",
      " '4/15/2016 9:00:00 PM' '4/15/2016 10:00:00 PM' '4/15/2016 11:00:00 PM'\n",
      " '4/16/2016 12:00:00 AM' '4/16/2016 1:00:00 AM' '4/16/2016 2:00:00 AM'\n",
      " '4/16/2016 3:00:00 AM' '4/16/2016 4:00:00 AM' '4/16/2016 5:00:00 AM'\n",
      " '4/16/2016 6:00:00 AM' '4/16/2016 7:00:00 AM' '4/16/2016 8:00:00 AM'\n",
      " '4/16/2016 9:00:00 AM' '4/16/2016 10:00:00 AM' '4/16/2016 11:00:00 AM'\n",
      " '4/16/2016 12:00:00 PM' '4/16/2016 1:00:00 PM' '4/16/2016 2:00:00 PM'\n",
      " '4/16/2016 3:00:00 PM' '4/16/2016 4:00:00 PM' '4/16/2016 5:00:00 PM'\n",
      " '4/16/2016 6:00:00 PM' '4/16/2016 7:00:00 PM' '4/16/2016 8:00:00 PM'\n",
      " '4/16/2016 9:00:00 PM' '4/16/2016 10:00:00 PM' '4/16/2016 11:00:00 PM'\n",
      " '4/17/2016 12:00:00 AM' '4/17/2016 1:00:00 AM' '4/17/2016 2:00:00 AM'\n",
      " '4/17/2016 3:00:00 AM' '4/17/2016 4:00:00 AM' '4/17/2016 5:00:00 AM'\n",
      " '4/17/2016 6:00:00 AM' '4/17/2016 7:00:00 AM' '4/17/2016 8:00:00 AM'\n",
      " '4/17/2016 9:00:00 AM' '4/17/2016 10:00:00 AM' '4/17/2016 11:00:00 AM'\n",
      " '4/17/2016 12:00:00 PM' '4/17/2016 1:00:00 PM' '4/17/2016 2:00:00 PM'\n",
      " '4/17/2016 3:00:00 PM' '4/17/2016 4:00:00 PM' '4/17/2016 5:00:00 PM'\n",
      " '4/17/2016 6:00:00 PM' '4/17/2016 7:00:00 PM' '4/17/2016 8:00:00 PM'\n",
      " '4/17/2016 9:00:00 PM' '4/17/2016 10:00:00 PM' '4/17/2016 11:00:00 PM'\n",
      " '4/18/2016 12:00:00 AM' '4/18/2016 1:00:00 AM' '4/18/2016 2:00:00 AM'\n",
      " '4/18/2016 3:00:00 AM' '4/18/2016 4:00:00 AM' '4/18/2016 5:00:00 AM'\n",
      " '4/18/2016 6:00:00 AM' '4/18/2016 7:00:00 AM' '4/18/2016 8:00:00 AM'\n",
      " '4/18/2016 9:00:00 AM' '4/18/2016 10:00:00 AM' '4/18/2016 11:00:00 AM'\n",
      " '4/18/2016 12:00:00 PM' '4/18/2016 1:00:00 PM' '4/18/2016 2:00:00 PM'\n",
      " '4/18/2016 3:00:00 PM' '4/18/2016 4:00:00 PM' '4/18/2016 5:00:00 PM'\n",
      " '4/18/2016 6:00:00 PM' '4/18/2016 7:00:00 PM' '4/18/2016 8:00:00 PM'\n",
      " '4/18/2016 9:00:00 PM' '4/18/2016 10:00:00 PM' '4/18/2016 11:00:00 PM'\n",
      " '4/19/2016 12:00:00 AM' '4/19/2016 1:00:00 AM' '4/19/2016 2:00:00 AM'\n",
      " '4/19/2016 3:00:00 AM' '4/19/2016 4:00:00 AM' '4/19/2016 5:00:00 AM'\n",
      " '4/19/2016 6:00:00 AM' '4/19/2016 7:00:00 AM' '4/19/2016 8:00:00 AM'\n",
      " '4/19/2016 9:00:00 AM' '4/19/2016 10:00:00 AM' '4/19/2016 11:00:00 AM'\n",
      " '4/19/2016 12:00:00 PM' '4/19/2016 1:00:00 PM' '4/19/2016 2:00:00 PM'\n",
      " '4/19/2016 3:00:00 PM' '4/19/2016 4:00:00 PM' '4/19/2016 5:00:00 PM'\n",
      " '4/19/2016 6:00:00 PM' '4/19/2016 7:00:00 PM' '4/19/2016 8:00:00 PM'\n",
      " '4/19/2016 9:00:00 PM' '4/19/2016 10:00:00 PM' '4/19/2016 11:00:00 PM'\n",
      " '4/20/2016 12:00:00 AM' '4/20/2016 1:00:00 AM' '4/20/2016 2:00:00 AM'\n",
      " '4/20/2016 3:00:00 AM' '4/20/2016 4:00:00 AM' '4/20/2016 5:00:00 AM'\n",
      " '4/20/2016 6:00:00 AM' '4/20/2016 7:00:00 AM' '4/20/2016 8:00:00 AM'\n",
      " '4/20/2016 9:00:00 AM' '4/20/2016 10:00:00 AM' '4/20/2016 11:00:00 AM'\n",
      " '4/20/2016 12:00:00 PM' '4/20/2016 1:00:00 PM' '4/20/2016 2:00:00 PM'\n",
      " '4/20/2016 3:00:00 PM' '4/20/2016 4:00:00 PM' '4/20/2016 5:00:00 PM'\n",
      " '4/20/2016 6:00:00 PM' '4/20/2016 7:00:00 PM' '4/20/2016 8:00:00 PM'\n",
      " '4/20/2016 9:00:00 PM' '4/20/2016 10:00:00 PM' '4/20/2016 11:00:00 PM'\n",
      " '4/21/2016 12:00:00 AM' '4/21/2016 1:00:00 AM' '4/21/2016 2:00:00 AM'\n",
      " '4/21/2016 3:00:00 AM' '4/21/2016 4:00:00 AM' '4/21/2016 5:00:00 AM'\n",
      " '4/21/2016 6:00:00 AM' '4/21/2016 7:00:00 AM' '4/21/2016 8:00:00 AM'\n",
      " '4/21/2016 9:00:00 AM' '4/21/2016 10:00:00 AM' '4/21/2016 11:00:00 AM'\n",
      " '4/21/2016 12:00:00 PM' '4/21/2016 1:00:00 PM' '4/21/2016 2:00:00 PM'\n",
      " '4/21/2016 3:00:00 PM' '4/21/2016 4:00:00 PM' '4/21/2016 5:00:00 PM'\n",
      " '4/21/2016 6:00:00 PM' '4/21/2016 7:00:00 PM' '4/21/2016 8:00:00 PM'\n",
      " '4/21/2016 9:00:00 PM' '4/21/2016 10:00:00 PM' '4/21/2016 11:00:00 PM'\n",
      " '4/22/2016 12:00:00 AM' '4/22/2016 1:00:00 AM' '4/22/2016 2:00:00 AM'\n",
      " '4/22/2016 3:00:00 AM' '4/22/2016 4:00:00 AM' '4/22/2016 5:00:00 AM'\n",
      " '4/22/2016 6:00:00 AM' '4/22/2016 7:00:00 AM' '4/22/2016 8:00:00 AM'\n",
      " '4/22/2016 9:00:00 AM' '4/22/2016 10:00:00 AM' '4/22/2016 11:00:00 AM'\n",
      " '4/22/2016 12:00:00 PM' '4/22/2016 1:00:00 PM' '4/22/2016 2:00:00 PM'\n",
      " '4/22/2016 3:00:00 PM' '4/22/2016 4:00:00 PM' '4/22/2016 5:00:00 PM'\n",
      " '4/22/2016 6:00:00 PM' '4/22/2016 7:00:00 PM' '4/22/2016 8:00:00 PM'\n",
      " '4/22/2016 9:00:00 PM' '4/22/2016 10:00:00 PM' '4/22/2016 11:00:00 PM'\n",
      " '4/23/2016 12:00:00 AM' '4/23/2016 1:00:00 AM' '4/23/2016 2:00:00 AM'\n",
      " '4/23/2016 3:00:00 AM' '4/23/2016 4:00:00 AM' '4/23/2016 5:00:00 AM'\n",
      " '4/23/2016 6:00:00 AM' '4/23/2016 7:00:00 AM' '4/23/2016 8:00:00 AM'\n",
      " '4/23/2016 9:00:00 AM' '4/23/2016 10:00:00 AM' '4/23/2016 11:00:00 AM'\n",
      " '4/23/2016 12:00:00 PM' '4/23/2016 1:00:00 PM' '4/23/2016 2:00:00 PM'\n",
      " '4/23/2016 3:00:00 PM' '4/23/2016 4:00:00 PM' '4/23/2016 5:00:00 PM'\n",
      " '4/23/2016 6:00:00 PM' '4/23/2016 7:00:00 PM' '4/23/2016 8:00:00 PM'\n",
      " '4/23/2016 9:00:00 PM' '4/23/2016 10:00:00 PM' '4/23/2016 11:00:00 PM'\n",
      " '4/24/2016 12:00:00 AM' '4/24/2016 1:00:00 AM' '4/24/2016 2:00:00 AM'\n",
      " '4/24/2016 3:00:00 AM' '4/24/2016 4:00:00 AM' '4/24/2016 5:00:00 AM'\n",
      " '4/24/2016 6:00:00 AM' '4/24/2016 7:00:00 AM' '4/24/2016 8:00:00 AM'\n",
      " '4/24/2016 9:00:00 AM' '4/24/2016 10:00:00 AM' '4/24/2016 11:00:00 AM'\n",
      " '4/24/2016 12:00:00 PM' '4/24/2016 1:00:00 PM' '4/24/2016 2:00:00 PM'\n",
      " '4/24/2016 3:00:00 PM' '4/24/2016 4:00:00 PM' '4/24/2016 5:00:00 PM'\n",
      " '4/24/2016 6:00:00 PM' '4/24/2016 7:00:00 PM' '4/24/2016 8:00:00 PM'\n",
      " '4/24/2016 9:00:00 PM' '4/24/2016 10:00:00 PM' '4/24/2016 11:00:00 PM'\n",
      " '4/25/2016 12:00:00 AM' '4/25/2016 1:00:00 AM' '4/25/2016 2:00:00 AM'\n",
      " '4/25/2016 3:00:00 AM' '4/25/2016 4:00:00 AM' '4/25/2016 5:00:00 AM'\n",
      " '4/25/2016 6:00:00 AM' '4/25/2016 7:00:00 AM' '4/25/2016 8:00:00 AM'\n",
      " '4/25/2016 9:00:00 AM' '4/25/2016 10:00:00 AM' '4/25/2016 11:00:00 AM'\n",
      " '4/25/2016 12:00:00 PM' '4/25/2016 1:00:00 PM' '4/25/2016 2:00:00 PM'\n",
      " '4/25/2016 3:00:00 PM' '4/25/2016 4:00:00 PM' '4/25/2016 5:00:00 PM'\n",
      " '4/25/2016 6:00:00 PM' '4/25/2016 7:00:00 PM' '4/25/2016 8:00:00 PM'\n",
      " '4/25/2016 9:00:00 PM' '4/25/2016 10:00:00 PM' '4/25/2016 11:00:00 PM'\n",
      " '4/26/2016 12:00:00 AM' '4/26/2016 1:00:00 AM' '4/26/2016 2:00:00 AM'\n",
      " '4/26/2016 3:00:00 AM' '4/26/2016 4:00:00 AM' '4/26/2016 5:00:00 AM'\n",
      " '4/26/2016 6:00:00 AM' '4/26/2016 7:00:00 AM' '4/26/2016 8:00:00 AM'\n",
      " '4/26/2016 9:00:00 AM' '4/26/2016 10:00:00 AM' '4/26/2016 11:00:00 AM'\n",
      " '4/26/2016 12:00:00 PM' '4/26/2016 1:00:00 PM' '4/26/2016 2:00:00 PM'\n",
      " '4/26/2016 3:00:00 PM' '4/26/2016 4:00:00 PM' '4/26/2016 5:00:00 PM'\n",
      " '4/26/2016 6:00:00 PM' '4/26/2016 7:00:00 PM' '4/26/2016 8:00:00 PM'\n",
      " '4/26/2016 9:00:00 PM' '4/26/2016 10:00:00 PM' '4/26/2016 11:00:00 PM'\n",
      " '4/27/2016 12:00:00 AM' '4/27/2016 1:00:00 AM' '4/27/2016 2:00:00 AM'\n",
      " '4/27/2016 3:00:00 AM' '4/27/2016 4:00:00 AM' '4/27/2016 5:00:00 AM'\n",
      " '4/27/2016 6:00:00 AM' '4/27/2016 7:00:00 AM' '4/27/2016 8:00:00 AM'\n",
      " '4/27/2016 9:00:00 AM' '4/27/2016 10:00:00 AM' '4/27/2016 11:00:00 AM'\n",
      " '4/27/2016 12:00:00 PM' '4/27/2016 1:00:00 PM' '4/27/2016 2:00:00 PM'\n",
      " '4/27/2016 3:00:00 PM' '4/27/2016 4:00:00 PM' '4/27/2016 5:00:00 PM'\n",
      " '4/27/2016 6:00:00 PM' '4/27/2016 7:00:00 PM' '4/27/2016 8:00:00 PM'\n",
      " '4/27/2016 9:00:00 PM' '4/27/2016 10:00:00 PM' '4/27/2016 11:00:00 PM'\n",
      " '4/28/2016 12:00:00 AM' '4/28/2016 1:00:00 AM' '4/28/2016 2:00:00 AM'\n",
      " '4/28/2016 3:00:00 AM' '4/28/2016 4:00:00 AM' '4/28/2016 5:00:00 AM'\n",
      " '4/28/2016 6:00:00 AM' '4/28/2016 7:00:00 AM' '4/28/2016 8:00:00 AM'\n",
      " '4/28/2016 9:00:00 AM' '4/28/2016 10:00:00 AM' '4/28/2016 11:00:00 AM'\n",
      " '4/28/2016 12:00:00 PM' '4/28/2016 1:00:00 PM' '4/28/2016 2:00:00 PM'\n",
      " '4/28/2016 3:00:00 PM' '4/28/2016 4:00:00 PM' '4/28/2016 5:00:00 PM'\n",
      " '4/28/2016 6:00:00 PM' '4/28/2016 7:00:00 PM' '4/28/2016 8:00:00 PM'\n",
      " '4/28/2016 9:00:00 PM' '4/28/2016 10:00:00 PM' '4/28/2016 11:00:00 PM'\n",
      " '4/29/2016 12:00:00 AM' '4/29/2016 1:00:00 AM' '4/29/2016 2:00:00 AM'\n",
      " '4/29/2016 3:00:00 AM' '4/29/2016 4:00:00 AM' '4/29/2016 5:00:00 AM'\n",
      " '4/29/2016 6:00:00 AM' '4/29/2016 7:00:00 AM' '4/29/2016 8:00:00 AM'\n",
      " '4/29/2016 9:00:00 AM' '4/29/2016 10:00:00 AM' '4/29/2016 11:00:00 AM'\n",
      " '4/29/2016 12:00:00 PM' '4/29/2016 1:00:00 PM' '4/29/2016 2:00:00 PM'\n",
      " '4/29/2016 3:00:00 PM' '4/29/2016 4:00:00 PM' '4/29/2016 5:00:00 PM'\n",
      " '4/29/2016 6:00:00 PM' '4/29/2016 7:00:00 PM' '4/29/2016 8:00:00 PM'\n",
      " '4/29/2016 9:00:00 PM' '4/29/2016 10:00:00 PM' '4/29/2016 11:00:00 PM'\n",
      " '4/30/2016 12:00:00 AM' '4/30/2016 1:00:00 AM' '4/30/2016 2:00:00 AM'\n",
      " '4/30/2016 3:00:00 AM' '4/30/2016 4:00:00 AM' '4/30/2016 5:00:00 AM'\n",
      " '4/30/2016 6:00:00 AM' '4/30/2016 7:00:00 AM' '4/30/2016 8:00:00 AM'\n",
      " '4/30/2016 9:00:00 AM' '4/30/2016 10:00:00 AM' '4/30/2016 11:00:00 AM'\n",
      " '4/30/2016 12:00:00 PM' '4/30/2016 1:00:00 PM' '4/30/2016 2:00:00 PM'\n",
      " '4/30/2016 3:00:00 PM' '4/30/2016 4:00:00 PM' '4/30/2016 5:00:00 PM'\n",
      " '4/30/2016 6:00:00 PM' '4/30/2016 7:00:00 PM' '4/30/2016 8:00:00 PM'\n",
      " '4/30/2016 9:00:00 PM' '4/30/2016 10:00:00 PM' '4/30/2016 11:00:00 PM'\n",
      " '5/1/2016 12:00:00 AM' '5/1/2016 1:00:00 AM' '5/1/2016 2:00:00 AM'\n",
      " '5/1/2016 3:00:00 AM' '5/1/2016 4:00:00 AM' '5/1/2016 5:00:00 AM'\n",
      " '5/1/2016 6:00:00 AM' '5/1/2016 7:00:00 AM' '5/1/2016 8:00:00 AM'\n",
      " '5/1/2016 9:00:00 AM' '5/1/2016 10:00:00 AM' '5/1/2016 11:00:00 AM'\n",
      " '5/1/2016 12:00:00 PM' '5/1/2016 1:00:00 PM' '5/1/2016 2:00:00 PM'\n",
      " '5/1/2016 3:00:00 PM' '5/1/2016 4:00:00 PM' '5/1/2016 5:00:00 PM'\n",
      " '5/1/2016 6:00:00 PM' '5/1/2016 7:00:00 PM' '5/1/2016 8:00:00 PM'\n",
      " '5/1/2016 9:00:00 PM' '5/1/2016 10:00:00 PM' '5/1/2016 11:00:00 PM'\n",
      " '5/2/2016 12:00:00 AM' '5/2/2016 1:00:00 AM' '5/2/2016 2:00:00 AM'\n",
      " '5/2/2016 3:00:00 AM' '5/2/2016 4:00:00 AM' '5/2/2016 5:00:00 AM'\n",
      " '5/2/2016 6:00:00 AM' '5/2/2016 7:00:00 AM' '5/2/2016 8:00:00 AM'\n",
      " '5/2/2016 9:00:00 AM' '5/2/2016 10:00:00 AM' '5/2/2016 11:00:00 AM'\n",
      " '5/2/2016 12:00:00 PM' '5/2/2016 1:00:00 PM' '5/2/2016 2:00:00 PM'\n",
      " '5/2/2016 3:00:00 PM' '5/2/2016 4:00:00 PM' '5/2/2016 5:00:00 PM'\n",
      " '5/2/2016 6:00:00 PM' '5/2/2016 7:00:00 PM' '5/2/2016 8:00:00 PM'\n",
      " '5/2/2016 9:00:00 PM' '5/2/2016 10:00:00 PM' '5/2/2016 11:00:00 PM'\n",
      " '5/3/2016 12:00:00 AM' '5/3/2016 1:00:00 AM' '5/3/2016 2:00:00 AM'\n",
      " '5/3/2016 3:00:00 AM' '5/3/2016 4:00:00 AM' '5/3/2016 5:00:00 AM'\n",
      " '5/3/2016 6:00:00 AM' '5/3/2016 7:00:00 AM' '5/3/2016 8:00:00 AM'\n",
      " '5/3/2016 9:00:00 AM' '5/3/2016 10:00:00 AM' '5/3/2016 11:00:00 AM'\n",
      " '5/3/2016 12:00:00 PM' '5/3/2016 1:00:00 PM' '5/3/2016 2:00:00 PM'\n",
      " '5/3/2016 3:00:00 PM' '5/3/2016 4:00:00 PM' '5/3/2016 5:00:00 PM'\n",
      " '5/3/2016 6:00:00 PM' '5/3/2016 7:00:00 PM' '5/3/2016 8:00:00 PM'\n",
      " '5/3/2016 9:00:00 PM' '5/3/2016 10:00:00 PM' '5/3/2016 11:00:00 PM'\n",
      " '5/4/2016 12:00:00 AM' '5/4/2016 1:00:00 AM' '5/4/2016 2:00:00 AM'\n",
      " '5/4/2016 3:00:00 AM' '5/4/2016 4:00:00 AM' '5/4/2016 5:00:00 AM'\n",
      " '5/4/2016 6:00:00 AM' '5/4/2016 7:00:00 AM' '5/4/2016 8:00:00 AM'\n",
      " '5/4/2016 9:00:00 AM' '5/4/2016 10:00:00 AM' '5/4/2016 11:00:00 AM'\n",
      " '5/4/2016 12:00:00 PM' '5/4/2016 1:00:00 PM' '5/4/2016 2:00:00 PM'\n",
      " '5/4/2016 3:00:00 PM' '5/4/2016 4:00:00 PM' '5/4/2016 5:00:00 PM'\n",
      " '5/4/2016 6:00:00 PM' '5/4/2016 7:00:00 PM' '5/4/2016 8:00:00 PM'\n",
      " '5/4/2016 9:00:00 PM' '5/4/2016 10:00:00 PM' '5/4/2016 11:00:00 PM'\n",
      " '5/5/2016 12:00:00 AM' '5/5/2016 1:00:00 AM' '5/5/2016 2:00:00 AM'\n",
      " '5/5/2016 3:00:00 AM' '5/5/2016 4:00:00 AM' '5/5/2016 5:00:00 AM'\n",
      " '5/5/2016 6:00:00 AM' '5/5/2016 7:00:00 AM' '5/5/2016 8:00:00 AM'\n",
      " '5/5/2016 9:00:00 AM' '5/5/2016 10:00:00 AM' '5/5/2016 11:00:00 AM'\n",
      " '5/5/2016 12:00:00 PM' '5/5/2016 1:00:00 PM' '5/5/2016 2:00:00 PM'\n",
      " '5/5/2016 3:00:00 PM' '5/5/2016 4:00:00 PM' '5/5/2016 5:00:00 PM'\n",
      " '5/5/2016 6:00:00 PM' '5/5/2016 7:00:00 PM' '5/5/2016 8:00:00 PM'\n",
      " '5/5/2016 9:00:00 PM' '5/5/2016 10:00:00 PM' '5/5/2016 11:00:00 PM'\n",
      " '5/6/2016 12:00:00 AM' '5/6/2016 1:00:00 AM' '5/6/2016 2:00:00 AM'\n",
      " '5/6/2016 3:00:00 AM' '5/6/2016 4:00:00 AM' '5/6/2016 5:00:00 AM'\n",
      " '5/6/2016 6:00:00 AM' '5/6/2016 7:00:00 AM' '5/6/2016 8:00:00 AM'\n",
      " '5/6/2016 9:00:00 AM' '5/6/2016 10:00:00 AM' '5/6/2016 11:00:00 AM'\n",
      " '5/6/2016 12:00:00 PM' '5/6/2016 1:00:00 PM' '5/6/2016 2:00:00 PM'\n",
      " '5/6/2016 3:00:00 PM' '5/6/2016 4:00:00 PM' '5/6/2016 5:00:00 PM'\n",
      " '5/6/2016 6:00:00 PM' '5/6/2016 7:00:00 PM' '5/6/2016 8:00:00 PM'\n",
      " '5/6/2016 9:00:00 PM' '5/6/2016 10:00:00 PM' '5/6/2016 11:00:00 PM'\n",
      " '5/7/2016 12:00:00 AM' '5/7/2016 1:00:00 AM' '5/7/2016 2:00:00 AM'\n",
      " '5/7/2016 3:00:00 AM' '5/7/2016 4:00:00 AM' '5/7/2016 5:00:00 AM'\n",
      " '5/7/2016 6:00:00 AM' '5/7/2016 7:00:00 AM' '5/7/2016 8:00:00 AM'\n",
      " '5/7/2016 9:00:00 AM' '5/7/2016 10:00:00 AM' '5/7/2016 11:00:00 AM'\n",
      " '5/7/2016 12:00:00 PM' '5/7/2016 1:00:00 PM' '5/7/2016 2:00:00 PM'\n",
      " '5/7/2016 3:00:00 PM' '5/7/2016 4:00:00 PM' '5/7/2016 5:00:00 PM'\n",
      " '5/7/2016 6:00:00 PM' '5/7/2016 7:00:00 PM' '5/7/2016 8:00:00 PM'\n",
      " '5/7/2016 9:00:00 PM' '5/7/2016 10:00:00 PM' '5/7/2016 11:00:00 PM'\n",
      " '5/8/2016 12:00:00 AM' '5/8/2016 1:00:00 AM' '5/8/2016 2:00:00 AM'\n",
      " '5/8/2016 3:00:00 AM' '5/8/2016 4:00:00 AM' '5/8/2016 5:00:00 AM'\n",
      " '5/8/2016 6:00:00 AM' '5/8/2016 7:00:00 AM' '5/8/2016 8:00:00 AM'\n",
      " '5/8/2016 9:00:00 AM' '5/8/2016 10:00:00 AM' '5/8/2016 11:00:00 AM'\n",
      " '5/8/2016 12:00:00 PM' '5/8/2016 1:00:00 PM' '5/8/2016 2:00:00 PM'\n",
      " '5/8/2016 3:00:00 PM' '5/8/2016 4:00:00 PM' '5/8/2016 5:00:00 PM'\n",
      " '5/8/2016 6:00:00 PM' '5/8/2016 7:00:00 PM' '5/8/2016 8:00:00 PM'\n",
      " '5/8/2016 9:00:00 PM' '5/8/2016 10:00:00 PM' '5/8/2016 11:00:00 PM'\n",
      " '5/9/2016 12:00:00 AM' '5/9/2016 1:00:00 AM' '5/9/2016 2:00:00 AM'\n",
      " '5/9/2016 3:00:00 AM' '5/9/2016 4:00:00 AM' '5/9/2016 5:00:00 AM'\n",
      " '5/9/2016 6:00:00 AM' '5/9/2016 7:00:00 AM' '5/9/2016 8:00:00 AM'\n",
      " '5/9/2016 9:00:00 AM' '5/9/2016 10:00:00 AM' '5/9/2016 11:00:00 AM'\n",
      " '5/9/2016 12:00:00 PM' '5/9/2016 1:00:00 PM' '5/9/2016 2:00:00 PM'\n",
      " '5/9/2016 3:00:00 PM' '5/9/2016 4:00:00 PM' '5/9/2016 5:00:00 PM'\n",
      " '5/9/2016 6:00:00 PM' '5/9/2016 7:00:00 PM' '5/9/2016 8:00:00 PM'\n",
      " '5/9/2016 9:00:00 PM' '5/9/2016 10:00:00 PM' '5/9/2016 11:00:00 PM'\n",
      " '5/10/2016 12:00:00 AM' '5/10/2016 1:00:00 AM' '5/10/2016 2:00:00 AM'\n",
      " '5/10/2016 3:00:00 AM' '5/10/2016 4:00:00 AM' '5/10/2016 5:00:00 AM'\n",
      " '5/10/2016 6:00:00 AM' '5/10/2016 7:00:00 AM' '5/10/2016 8:00:00 AM'\n",
      " '5/10/2016 9:00:00 AM' '5/10/2016 10:00:00 AM' '5/10/2016 11:00:00 AM'\n",
      " '5/10/2016 12:00:00 PM' '5/10/2016 1:00:00 PM' '5/10/2016 2:00:00 PM'\n",
      " '5/10/2016 3:00:00 PM' '5/10/2016 4:00:00 PM' '5/10/2016 5:00:00 PM'\n",
      " '5/10/2016 6:00:00 PM' '5/10/2016 7:00:00 PM' '5/10/2016 8:00:00 PM'\n",
      " '5/10/2016 9:00:00 PM' '5/10/2016 10:00:00 PM' '5/10/2016 11:00:00 PM'\n",
      " '5/11/2016 12:00:00 AM' '5/11/2016 1:00:00 AM' '5/11/2016 2:00:00 AM'\n",
      " '5/11/2016 3:00:00 AM' '5/11/2016 4:00:00 AM' '5/11/2016 5:00:00 AM'\n",
      " '5/11/2016 6:00:00 AM' '5/11/2016 7:00:00 AM' '5/11/2016 8:00:00 AM'\n",
      " '5/11/2016 9:00:00 AM' '5/11/2016 10:00:00 AM' '5/11/2016 11:00:00 AM'\n",
      " '5/11/2016 12:00:00 PM' '5/11/2016 1:00:00 PM' '5/11/2016 2:00:00 PM'\n",
      " '5/11/2016 3:00:00 PM' '5/11/2016 4:00:00 PM' '5/11/2016 5:00:00 PM'\n",
      " '5/11/2016 6:00:00 PM' '5/11/2016 7:00:00 PM' '5/11/2016 8:00:00 PM'\n",
      " '5/11/2016 9:00:00 PM' '5/11/2016 10:00:00 PM' '5/11/2016 11:00:00 PM'\n",
      " '5/12/2016 12:00:00 AM' '5/12/2016 1:00:00 AM' '5/12/2016 2:00:00 AM'\n",
      " '5/12/2016 3:00:00 AM' '5/12/2016 4:00:00 AM' '5/12/2016 5:00:00 AM'\n",
      " '5/12/2016 6:00:00 AM' '5/12/2016 7:00:00 AM' '5/12/2016 8:00:00 AM'\n",
      " '5/12/2016 9:00:00 AM' '5/12/2016 10:00:00 AM' '5/12/2016 11:00:00 AM'\n",
      " '5/12/2016 12:00:00 PM' '5/12/2016 1:00:00 PM' '5/12/2016 2:00:00 PM'\n",
      " '5/12/2016 3:00:00 PM']\n",
      "[ 81  61  59  47  48  68 141  99  76  73  66 110 151  83 124 104 132 100\n",
      "  65  69  53 136  77  84  82  72 128  79  71  87 118  74 135  56  54  93\n",
      " 109  64  85 137 113  88  55  91 174  50  60  58  49  63  67 140  97  75\n",
      " 182  52  62 147 119 214  51  57  95 191 133  70  80  78 234 157  86 130\n",
      " 143 171  90 120 159  94 144 114 117 213 102 311 129 121 173 162  96 115\n",
      " 270 146  92 267 139 126 142 169 127 149  89 150 178 318 116 105 108 138\n",
      " 103 111 203 160 161 153 107 231 106 163 125 152 145 131 154 219 134 172\n",
      " 164 209  98 261 101 176 168 208 112 122 166 222 190 177 336 369 374 201\n",
      " 237 250 279 123 148 456 205 275 258 248 158 273 244 179 200 364 196 187\n",
      " 215 345 165 383 292 224 271 228 156 236 277 180 229 183 329 221 272 218\n",
      " 259 204 194 189 175 323 287 307 212 197 202 170 278 319 313 256 211 155\n",
      " 198 235 255 257 240 265 225 223 227 167 413 268 186 184 193 230 397 206\n",
      " 337 415 185 486 389 441 188 238 295 239 349 233 426 484 448 243 181 249\n",
      " 217 216 252 312 388 326 289 288 294 361 367 274 246 334 207 199 301 210\n",
      " 297 316 410 291 226 343 264 251 260 276  42  44  43  45  46 195 306 263\n",
      " 247 412 476 314 262 346 315 220 283 351 245 266 300 462 317 321 592 304\n",
      " 309 398 286 366 536 310 280 254 392 390 339 330 284 436 394 417 567 298\n",
      " 338 342 299 356 285 386 192 399 335 393 253 340 281 303 241 414 354 574\n",
      " 293 425 380 347 371 421 612 464 355 562 405 424 544 359 430 511 370 512\n",
      " 525 447 408 290 296 387 381 331 411 372 463 519 332 586 524 467 308 395\n",
      " 495 322 242 531 382 350 320 327 232 376 493 363 325 357 282 596 404 324\n",
      " 328 344 633 384 379 341 566 590 353 358 576 403 377 651 505 563 396 368\n",
      " 378 489 348 400 305 402 391 649 429 269 428 669 407 616 419 418 461 450\n",
      " 352 416 443 597 730 571 741 694 497 707 886 834 561 635 483 647 814 587\n",
      " 440 728 627 948 506 789 843 602 705 835]\n"
     ]
    }
   ],
   "source": [
    "# Explore unique values in a specific columns\n",
    "print(dfHourlyCalories['Id'].unique())\n",
    "print(dfHourlyCalories['ActivityHour'].unique())\n",
    "print(dfHourlyCalories['Calories'].unique())"
   ]
  },
  {
   "cell_type": "code",
   "execution_count": 7,
   "metadata": {},
   "outputs": [
    {
     "name": "stdout",
     "output_type": "stream",
     "text": [
      "Number of Duplicate Rows: 0\n",
      "\n",
      "As No Duplicate Rows:\n",
      "Empty DataFrame\n",
      "Columns: [Id, ActivityHour, Calories]\n",
      "Index: []\n",
      "\n",
      "No Existing Duplicates:\n",
      "Total Number of Rows: 22099\n"
     ]
    }
   ],
   "source": [
    "# Checking for duplicate rows\n",
    "duplicates = dfHourlyCalories.duplicated()\n",
    "print(\"Number of Duplicate Rows:\", duplicates.sum())\n",
    "\n",
    "duplicate_rows = dfHourlyCalories[duplicates]\n",
    "print(\"\\nAs No Duplicate Rows:\")\n",
    "print(duplicate_rows)\n",
    "\n",
    "# Removing the Duplicate Rows\n",
    "dfHourlyCalories = dfHourlyCalories.drop_duplicates()\n",
    "\n",
    "# Verifying afterwards\n",
    "print(\"\\nNo Existing Duplicates:\")\n",
    "print(\"Total Number of Rows:\", len(dfHourlyCalories))"
   ]
  },
  {
   "cell_type": "code",
   "execution_count": 8,
   "metadata": {},
   "outputs": [
    {
     "data": {
      "image/png": "[encoded data removed]",
      "text/plain": [
       "<Figure size 1500x1000 with 3 Axes>"
      ]
     },
     "metadata": {},
     "output_type": "display_data"
    }
   ],
   "source": [
    "# Visualizing the features to identify the outliers.\n",
    "import seaborn as sns\n",
    "import matplotlib.pyplot as plt\n",
    "plt.figure(figsize=(15, 10))\n",
    "\n",
    "for i, column in enumerate(dfHourlyCalories.columns):\n",
    "    plt.subplot(3, 5, i+1)  \n",
    "    sns.boxplot(x=dfHourlyCalories[column])\n",
    "    plt.title(f'Box Plot of {column}')\n",
    "\n",
    "plt.tight_layout()\n",
    "plt.show()"
   ]
  },
  {
   "cell_type": "markdown",
   "metadata": {},
   "source": [
    "Handling the Outliers Separately on Features"
   ]
  },
  {
   "cell_type": "markdown",
   "metadata": {},
   "source": [
    "1. Calories"
   ]
  },
  {
   "cell_type": "code",
   "execution_count": 13,
   "metadata": {},
   "outputs": [
    {
     "name": "stdout",
     "output_type": "stream",
     "text": [
      "Capped Calories:\n",
      "count    22099.000000\n",
      "mean        91.114123\n",
      "std         35.835251\n",
      "min         42.000000\n",
      "25%         63.000000\n",
      "50%         83.000000\n",
      "75%        108.000000\n",
      "max        175.000000\n",
      "Name: Calories, dtype: float64\n"
     ]
    }
   ],
   "source": [
    "# We are applying capping\n",
    "ValueUpperlimit = 175\n",
    "\n",
    "dfHourlyCalories['Calories'] = dfHourlyCalories['Calories'].clip(upper=ValueUpperlimit)\n",
    "print(\"Capped Calories:\")\n",
    "print(dfHourlyCalories['Calories'].describe())"
   ]
  },
  {
   "cell_type": "code",
   "execution_count": 14,
   "metadata": {},
   "outputs": [
    {
     "name": "stdout",
     "output_type": "stream",
     "text": [
      "                 Id      Calories\n",
      "count  2.209900e+04  22099.000000\n",
      "mean   4.848235e+09     91.114123\n",
      "std    2.422500e+09     35.835251\n",
      "min    1.503960e+09     42.000000\n",
      "25%    2.320127e+09     63.000000\n",
      "50%    4.445115e+09     83.000000\n",
      "75%    6.962181e+09    108.000000\n",
      "max    8.877689e+09    175.000000\n"
     ]
    }
   ],
   "source": [
    "# Displaying summary statistics of all columns\n",
    "print(dfHourlyCalories.describe())"
   ]
  },
  {
   "cell_type": "code",
   "execution_count": 15,
   "metadata": {},
   "outputs": [
    {
     "data": {
      "image/png": "[encoded data removed]",
      "text/plain": [
       "<Figure size 1500x1000 with 3 Axes>"
      ]
     },
     "metadata": {},
     "output_type": "display_data"
    }
   ],
   "source": [
    "# Visualizing the features to identify the outliers.\n",
    "import seaborn as sns\n",
    "import matplotlib.pyplot as plt\n",
    "plt.figure(figsize=(15, 10))\n",
    "\n",
    "for i, column in enumerate(dfHourlyCalories.columns):\n",
    "    plt.subplot(3, 5, i+1)  \n",
    "    sns.boxplot(x=dfHourlyCalories[column])\n",
    "    plt.title(f'Box Plot of {column}')\n",
    "\n",
    "plt.tight_layout()\n",
    "plt.show()"
   ]
  },
  {
   "cell_type": "code",
   "execution_count": 16,
   "metadata": {},
   "outputs": [
    {
     "name": "stdout",
     "output_type": "stream",
     "text": [
      "Filtered dataset saved to: /University/6th Semester/Sixth Semester/IDS-AIProject/FilteredFitbaseData/hourlyCalories_merged_Filtered.csv\n"
     ]
    }
   ],
   "source": [
    "# df_daily_activity is our DataFrame with outliers removed\n",
    "\n",
    "# Specifying the path to save the filtered dataset\n",
    "filteredDatasetPath = '/University/6th Semester/Sixth Semester/IDS-AIProject/FilteredFitbaseData/hourlyCalories_merged_Filtered.csv'\n",
    "\n",
    "# Saving the DataFrame to a CSV file\n",
    "dfHourlyCalories.to_csv(filteredDatasetPath, index=False)\n",
    "\n",
    "print(f\"Filtered dataset saved to: {filteredDatasetPath}\")"
   ]
  }
 ],
 "metadata": {
  "kernelspec": {
   "display_name": "Python 3",
   "language": "python",
   "name": "python3"
  },
  "language_info": {
   "codemirror_mode": {
    "name": "ipython",
    "version": 3
   },
   "file_extension": ".py",
   "mimetype": "text/x-python",
   "name": "python",
   "nbconvert_exporter": "python",
   "pygments_lexer": "ipython3",
   "version": "3.12.0"
  }
 },
 "nbformat": 4,
 "nbformat_minor": 2
}
