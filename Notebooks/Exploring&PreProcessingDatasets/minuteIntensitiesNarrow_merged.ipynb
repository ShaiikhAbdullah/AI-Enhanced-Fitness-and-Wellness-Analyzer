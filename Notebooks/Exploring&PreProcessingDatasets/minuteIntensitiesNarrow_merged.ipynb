{
 "cells": [
  {
   "cell_type": "markdown",
   "metadata": {},
   "source": [
    "# minuteIntensitiesNarrow_merged Dataset"
   ]
  },
  {
   "cell_type": "markdown",
   "metadata": {},
   "source": [
    "Exploring"
   ]
  },
  {
   "cell_type": "code",
   "execution_count": 2,
   "metadata": {},
   "outputs": [
    {
     "name": "stdout",
     "output_type": "stream",
     "text": [
      "           Id         ActivityMinute  Intensity\n",
      "0  1503960366  4/12/2016 12:00:00 AM          0\n",
      "1  1503960366  4/12/2016 12:01:00 AM          0\n",
      "2  1503960366  4/12/2016 12:02:00 AM          0\n",
      "3  1503960366  4/12/2016 12:03:00 AM          0\n",
      "4  1503960366  4/12/2016 12:04:00 AM          0\n"
     ]
    }
   ],
   "source": [
    "# Import necessary libraries\n",
    "import pandas as pd\n",
    "\n",
    "# Specify the file path\n",
    "file_path = '/University/6th Semester/Sixth Semester/IDS-AIProject/FitabaseData4.12.16-5.12.16/minuteIntensitiesNarrow_merged.csv'\n",
    "\n",
    "# Read the dataset into a DataFrame\n",
    "df_minute_intensities = pd.read_csv(file_path)\n",
    "\n",
    "# Display the first few rows of the dataset\n",
    "print(df_minute_intensities.head())\n"
   ]
  },
  {
   "cell_type": "code",
   "execution_count": 3,
   "metadata": {},
   "outputs": [
    {
     "name": "stdout",
     "output_type": "stream",
     "text": [
      "<class 'pandas.core.frame.DataFrame'>\n",
      "RangeIndex: 1325580 entries, 0 to 1325579\n",
      "Data columns (total 3 columns):\n",
      " #   Column          Non-Null Count    Dtype \n",
      "---  ------          --------------    ----- \n",
      " 0   Id              1325580 non-null  int64 \n",
      " 1   ActivityMinute  1325580 non-null  object\n",
      " 2   Intensity       1325580 non-null  int64 \n",
      "dtypes: int64(2), object(1)\n",
      "memory usage: 30.3+ MB\n",
      "None\n"
     ]
    }
   ],
   "source": [
    "# Display basic information about the dataset\n",
    "print(df_minute_intensities.info())"
   ]
  },
  {
   "cell_type": "code",
   "execution_count": 4,
   "metadata": {},
   "outputs": [
    {
     "name": "stdout",
     "output_type": "stream",
     "text": [
      "                 Id     Intensity\n",
      "count  1.325580e+06  1.325580e+06\n",
      "mean   4.847898e+09  2.005937e-01\n",
      "std    2.422313e+09  5.190227e-01\n",
      "min    1.503960e+09  0.000000e+00\n",
      "25%    2.320127e+09  0.000000e+00\n",
      "50%    4.445115e+09  0.000000e+00\n",
      "75%    6.962181e+09  0.000000e+00\n",
      "max    8.877689e+09  3.000000e+00\n"
     ]
    }
   ],
   "source": [
    "# Display summary statistics of numeric columns\n",
    "print(df_minute_intensities.describe())\n"
   ]
  },
  {
   "cell_type": "code",
   "execution_count": 5,
   "metadata": {},
   "outputs": [
    {
     "name": "stdout",
     "output_type": "stream",
     "text": [
      "Index(['Id', 'ActivityMinute', 'Intensity'], dtype='object')\n"
     ]
    }
   ],
   "source": [
    "# Display the names of all columns\n",
    "print(df_minute_intensities.columns)\n"
   ]
  },
  {
   "cell_type": "markdown",
   "metadata": {},
   "source": [
    "Data Preprocessing:"
   ]
  },
  {
   "cell_type": "code",
   "execution_count": 6,
   "metadata": {},
   "outputs": [
    {
     "name": "stdout",
     "output_type": "stream",
     "text": [
      "Id                0\n",
      "ActivityMinute    0\n",
      "Intensity         0\n",
      "dtype: int64\n"
     ]
    }
   ],
   "source": [
    "# Checking for missing values in each column\n",
    "print(df_minute_intensities.isnull().sum())\n"
   ]
  },
  {
   "cell_type": "code",
   "execution_count": 7,
   "metadata": {},
   "outputs": [
    {
     "name": "stdout",
     "output_type": "stream",
     "text": [
      "[1503960366 1624580081 1644430081 1844505072 1927972279 2022484408\n",
      " 2026352035 2320127002 2347167796 2873212765 3372868164 3977333714\n",
      " 4020332650 4057192912 4319703577 4388161847 4445114986 4558609924\n",
      " 4702921684 5553957443 5577150313 6117666160 6290855005 6775888955\n",
      " 6962181067 7007744171 7086361926 8053475328 8253242879 8378563200\n",
      " 8583815059 8792009665 8877689391]\n",
      "['4/12/2016 12:00:00 AM' '4/12/2016 12:01:00 AM' '4/12/2016 12:02:00 AM'\n",
      " ... '5/12/2016 3:57:00 PM' '5/12/2016 3:58:00 PM' '5/12/2016 3:59:00 PM']\n",
      "[0 1 2 3]\n"
     ]
    }
   ],
   "source": [
    "# Explore unique values in the 'Id', 'ActivityMinute', and 'Intensity' columns\n",
    "print(df_minute_intensities['Id'].unique())\n",
    "print(df_minute_intensities['ActivityMinute'].unique())\n",
    "print(df_minute_intensities['Intensity'].unique())\n"
   ]
  },
  {
   "cell_type": "code",
   "execution_count": 8,
   "metadata": {},
   "outputs": [
    {
     "name": "stdout",
     "output_type": "stream",
     "text": [
      "Number of Duplicate Rows: 0\n"
     ]
    }
   ],
   "source": [
    "# Checking for duplicate rows\n",
    "duplicates_minute = df_minute_intensities.duplicated()\n",
    "print(\"Number of Duplicate Rows:\", duplicates_minute.sum())"
   ]
  },
  {
   "cell_type": "code",
   "execution_count": 9,
   "metadata": {},
   "outputs": [
    {
     "name": "stdout",
     "output_type": "stream",
     "text": [
      "\n",
      "Duplicate Rows:\n",
      "0          False\n",
      "1          False\n",
      "2          False\n",
      "3          False\n",
      "4          False\n",
      "           ...  \n",
      "1325575    False\n",
      "1325576    False\n",
      "1325577    False\n",
      "1325578    False\n",
      "1325579    False\n",
      "Length: 1325580, dtype: bool\n"
     ]
    }
   ],
   "source": [
    "#duplicate_rows_minute = df_minute_intensities[duplicates_minute]\n",
    "print(\"\\nDuplicate Rows:\")\n",
    "print(duplicates_minute)\n"
   ]
  },
  {
   "cell_type": "code",
   "execution_count": 10,
   "metadata": {},
   "outputs": [
    {
     "name": "stdout",
     "output_type": "stream",
     "text": [
      "\n",
      "No Existing Duplicates:\n",
      "Total Number of Rows: 1325580\n"
     ]
    }
   ],
   "source": [
    "# Removing duplicate rows\n",
    "df_minute_intensities = df_minute_intensities.drop_duplicates()\n",
    "\n",
    "# Verifying afterwards\n",
    "print(\"\\nNo Existing Duplicates:\")\n",
    "print(\"Total Number of Rows:\", len(df_minute_intensities))\n"
   ]
  },
  {
   "cell_type": "markdown",
   "metadata": {},
   "source": [
    "Visualizing Features:"
   ]
  },
  {
   "cell_type": "code",
   "execution_count": 11,
   "metadata": {},
   "outputs": [
    {
     "data": {
      "image/png": "[encoded data removed]",
      "text/plain": [
       "<Figure size 800x600 with 1 Axes>"
      ]
     },
     "metadata": {},
     "output_type": "display_data"
    }
   ],
   "source": [
    "# Visualizing the outliers for the \"Intensity\" column.\n",
    "import seaborn as sns\n",
    "import matplotlib.pyplot as plt\n",
    "\n",
    "plt.figure(figsize=(8, 6))\n",
    "sns.boxplot(x=df_minute_intensities['Intensity'])\n",
    "plt.title('Box Plot of Intensity')\n",
    "plt.show()"
   ]
  },
  {
   "cell_type": "markdown",
   "metadata": {},
   "source": [
    "Removing Outliers"
   ]
  },
  {
   "cell_type": "code",
   "execution_count": 20,
   "metadata": {},
   "outputs": [
    {
     "name": "stdout",
     "output_type": "stream",
     "text": [
      "Capped Intensity:\n",
      "count    1325580.0\n",
      "mean           0.0\n",
      "std            0.0\n",
      "min            0.0\n",
      "25%            0.0\n",
      "50%            0.0\n",
      "75%            0.0\n",
      "max            0.0\n",
      "Name: Intensity, dtype: float64\n"
     ]
    }
   ],
   "source": [
    "# We are applying capping\n",
    "IntensityUpperlimit = 0.000\n",
    "\n",
    "df_minute_intensities['Intensity'] = df_minute_intensities['Intensity'].clip(upper=IntensityUpperlimit)\n",
    "print(\"Capped Intensity:\")\n",
    "print(df_minute_intensities['Intensity'].describe())"
   ]
  },
  {
   "cell_type": "code",
   "execution_count": 21,
   "metadata": {},
   "outputs": [
    {
     "data": {
      "image/png": "[encoded data removed]",
      "text/plain": [
       "<Figure size 800x600 with 1 Axes>"
      ]
     },
     "metadata": {},
     "output_type": "display_data"
    }
   ],
   "source": [
    "# Visualizing the outliers for the \"Intensity\" column.\n",
    "import seaborn as sns\n",
    "import matplotlib.pyplot as plt\n",
    "\n",
    "plt.figure(figsize=(8, 6))\n",
    "sns.boxplot(x=df_minute_intensities['Intensity'])\n",
    "plt.title('Box Plot of Intensity')\n",
    "plt.show()"
   ]
  },
  {
   "cell_type": "code",
   "execution_count": 22,
   "metadata": {},
   "outputs": [
    {
     "data": {
      "image/png": "[encoded data removed]",
      "text/plain": [
       "<Figure size 1000x600 with 1 Axes>"
      ]
     },
     "metadata": {},
     "output_type": "display_data"
    }
   ],
   "source": [
    "# Assuming df_minute_intensities is your DataFrame after removing outliers\n",
    "# Replace 'Value' with the actual column name you want to plot\n",
    "column_name = 'Id'\n",
    "\n",
    "# Create a boxplot\n",
    "plt.figure(figsize=(10, 6))\n",
    "sns.boxplot(x=df_minute_intensities[column_name])\n",
    "\n",
    "# Add labels and title\n",
    "plt.xlabel('Id')\n",
    "plt.title(f'Boxplot of {column_name} without outliers')\n",
    "\n",
    "# Show the plot\n",
    "plt.show()\n"
   ]
  },
  {
   "cell_type": "code",
   "execution_count": 23,
   "metadata": {},
   "outputs": [
    {
     "name": "stdout",
     "output_type": "stream",
     "text": [
      "Filtered dataset saved to: /University/6th Semester/Sixth Semester/IDS-AIProject/FilteredFitbaseData/minuteIntensitiesNarrow_merged_Filtered.csv\n"
     ]
    }
   ],
   "source": [
    "# df_minute_intensities is our DataFrame with outliers removed\n",
    "\n",
    "# Specifying the path to save the filtered dataset\n",
    "filteredDatasetPath = '/University/6th Semester/Sixth Semester/IDS-AIProject/FilteredFitbaseData/minuteIntensitiesNarrow_merged_Filtered.csv'\n",
    "\n",
    "# Saving the DataFrame to a CSV file\n",
    "df_minute_intensities.to_csv(filteredDatasetPath, index=False)\n",
    "\n",
    "print(f\"Filtered dataset saved to: {filteredDatasetPath}\")"
   ]
  }
 ],
 "metadata": {
  "kernelspec": {
   "display_name": "Python 3",
   "language": "python",
   "name": "python3"
  },
  "language_info": {
   "codemirror_mode": {
    "name": "ipython",
    "version": 3
   },
   "file_extension": ".py",
   "mimetype": "text/x-python",
   "name": "python",
   "nbconvert_exporter": "python",
   "pygments_lexer": "ipython3",
   "version": "3.12.0"
  }
 },
 "nbformat": 4,
 "nbformat_minor": 2
}
